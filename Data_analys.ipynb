{
  "nbformat": 4,
  "nbformat_minor": 0,
  "metadata": {
    "colab": {
      "provenance": [],
      "include_colab_link": true
    },
    "kernelspec": {
      "name": "python3",
      "display_name": "Python 3"
    },
    "language_info": {
      "name": "python"
    }
  },
  "cells": [
    {
      "cell_type": "markdown",
      "metadata": {
        "id": "view-in-github",
        "colab_type": "text"
      },
      "source": [
        "<a href=\"https://colab.research.google.com/github/Arvinzaheri/data_colab_task/blob/main/Data_analys.ipynb\" target=\"_parent\"><img src=\"https://colab.research.google.com/assets/colab-badge.svg\" alt=\"Open In Colab\"/></a>"
      ]
    },
    {
      "cell_type": "code",
      "source": [
        "#firt of all we load the data frpm the google drive\n",
        "from google.colab import drive\n",
        "drive.mount('/content/drive')\n"
      ],
      "metadata": {
        "colab": {
          "base_uri": "https://localhost:8080/"
        },
        "id": "wOpQbzCiYBpa",
        "outputId": "97196faf-1d63-4840-ad59-ea291425969d"
      },
      "execution_count": null,
      "outputs": [
        {
          "output_type": "stream",
          "name": "stdout",
          "text": [
            "Mounted at /content/drive\n"
          ]
        }
      ]
    },
    {
      "cell_type": "code",
      "source": [
        "path = \"/content/booksummaries.txt\""
      ],
      "metadata": {
        "id": "Qn3tVo8RYcyv"
      },
      "execution_count": null,
      "outputs": []
    },
    {
      "cell_type": "code",
      "source": [
        "#https://drive.google.com/file/d/1PDujXAkSelYQ8KX_vBGwDr6EkMhJXlA3/view?usp=share_link\n",
        "!gdown 1PDujXAkSelYQ8KX_vBGwDr6EkMhJXlA3"
      ],
      "metadata": {
        "id": "KvGjgYXPA7es",
        "outputId": "c6921815-5220-426f-8d4c-e86819c204a7",
        "colab": {
          "base_uri": "https://localhost:8080/"
        }
      },
      "execution_count": null,
      "outputs": [
        {
          "output_type": "stream",
          "name": "stdout",
          "text": [
            "Downloading...\n",
            "From: https://drive.google.com/uc?id=1PDujXAkSelYQ8KX_vBGwDr6EkMhJXlA3\n",
            "To: /content/booksummaries.txt\n",
            "100% 43.5M/43.5M [00:00<00:00, 76.4MB/s]\n"
          ]
        }
      ]
    },
    {
      "cell_type": "markdown",
      "source": [
        "# Data Analysis and Cleaning\n",
        "\n",
        "## Problem Identification\n",
        "Upon initial inspection of the dataset, we identified several issues that could hinder our data analysis process. The data was in a text file with inconsistent separators, sometimes a space, sometimes a tab, and other times different characters. Additionally, the dataset did not have column names, making it difficult to understand the context of the data. There were also various symbols and additional characters like `:::::` instead of a single `:`.\n",
        "\n",
        "## Solution\n",
        "To address these issues, we decided to use Python's `pandas` library to convert the text file into a DataFrame, a two-dimensional tabular data structure with labeled axes (rows and columns). We also used Python's `re` (regular expression) module to clean the data.\n",
        "\n",
        "### Data Loading\n",
        "We read the file line by line, splitting each line into columns based on the separators (space or tab). This gave us a list of columns for each line, which we appended to our data list.\n",
        "\n",
        "### Data Cleaning\n",
        "We created a `clean_data` function that uses regular expressions to remove unwanted characters from the text. Specifically, we wrote a regex pattern to match any character that is not a letter, a number, or a space, and replaced these characters with nothing (effectively removing them).\n",
        "\n",
        "```python\n",
        "def clean_data(text):\n",
        "    # Keep only alphanumeric characters\n",
        "    text = re.sub(r'[^a-zA-Z0-9\\s]', '', text)\n",
        "    return text\n"
      ],
      "metadata": {
        "id": "U62Ia1S0ZV0G"
      }
    },
    {
      "cell_type": "markdown",
      "source": [
        "### Separator Inconsistency\n",
        "One of the challenges we faced was the inconsistency in the separators used in the data. In some instances, a space was used, in others, a tab, and sometimes different characters altogether. This inconsistency made it difficult to correctly split the data into separate fields.\n",
        "\n",
        "### Handling Separator Inconsistency\n",
        "To handle this, we used Python's `re` (regular expression) module, which provides flexible pattern-matching capabilities. We used the `re.split()` function to split each line into columns. This function allows us to specify multiple separators by placing them inside a character class in the regex pattern. In our case, we used `\\t|  `, which matches either a tab (`\\t`) or two spaces (`  `).\n",
        "\n",
        "Here's the relevant part of the code:\n",
        "\n",
        "```python\n",
        "# Split the line into columns\n",
        "columns = re.split(r'\\t|  ', line)\n",
        "\n"
      ],
      "metadata": {
        "id": "Xz0Uj7gXa3zF"
      }
    },
    {
      "cell_type": "code",
      "source": [
        "import pandas as pd\n",
        "import re\n",
        "\n",
        "# Define a function to clean the data\n",
        "def clean_data(text):\n",
        "    # Keep only alphanumeric characters\n",
        "    text = re.sub(r'[^a-zA-Z0-9\\s]', '', text)\n",
        "    return text\n",
        "\n",
        "\n",
        "# Read the file\n",
        "with open(path, 'r') as file:\n",
        "    lines = file.readlines()\n",
        "\n",
        "# Split the lines into columns and clean the data\n",
        "data = []\n",
        "for line in lines:\n",
        "    # Split the line into columns\n",
        "    columns = re.split(r'\\t', line)\n",
        "    # Clean the data\n",
        "    columns = [clean_data(column) for column in columns]\n",
        "    data.append(columns)\n",
        "\n",
        "# Convert the data into a DataFrame\n",
        "df = pd.DataFrame(data)\n",
        "\n",
        "# If you want to add column names\n",
        "df.columns = ['Id', 'Column2', 'Booktitle', 'Author', 'Year', 'Genre', \"Summary\"]\n"
      ],
      "metadata": {
        "id": "mFl50rF-a4Ua"
      },
      "execution_count": 82,
      "outputs": []
    },
    {
      "cell_type": "code",
      "source": [
        "df.head()"
      ],
      "metadata": {
        "colab": {
          "base_uri": "https://localhost:8080/",
          "height": 293
        },
        "id": "ZCWFnlLccTCb",
        "outputId": "3e8452cb-dabb-4aa4-bd58-99f8a8a154e8"
      },
      "execution_count": null,
      "outputs": [
        {
          "output_type": "execute_result",
          "data": {
            "text/plain": [
              "     Id Column2                                  Booktitle           Author  \\\n",
              "0   620   m0hhy                                Animal Farm    George Orwell   \n",
              "1   843   m0k36                         A Clockwork Orange  Anthony Burgess   \n",
              "2   986   m0ldx                                 The Plague     Albert Camus   \n",
              "3  1756   m0sww  An Enquiry Concerning Human Understanding       David Hume   \n",
              "4  2080   m0wkt                       A Fire Upon the Deep     Vernor Vinge   \n",
              "\n",
              "       Year                                              Genre  \\\n",
              "0  19450817  m016lj8 Roman u00e0 clef m06nbt Satire m0dwly ...   \n",
              "1      1962  m06n90 Science Fiction m0l67h Novella m014dfn ...   \n",
              "2      1947  m02m4t Existentialism m02xlf Fiction m0pym5 Ab...   \n",
              "3                                                                \n",
              "4            m03lrw Hard science fiction m06n90 Science Fic...   \n",
              "\n",
              "                                             Summary  \n",
              "0   Old Major the old boar on the Manor Farm call...  \n",
              "1   Alex a teenager living in nearfuture England ...  \n",
              "2   The text of The Plague is divided into five p...  \n",
              "3   The argument of the Enquiry proceeds by a ser...  \n",
              "4   The novel posits that space around the Milky ...  "
            ],
            "text/html": [
              "\n",
              "  <div id=\"df-54474cb4-2a54-49c9-8215-75468bdcc6d5\" class=\"colab-df-container\">\n",
              "    <div>\n",
              "<style scoped>\n",
              "    .dataframe tbody tr th:only-of-type {\n",
              "        vertical-align: middle;\n",
              "    }\n",
              "\n",
              "    .dataframe tbody tr th {\n",
              "        vertical-align: top;\n",
              "    }\n",
              "\n",
              "    .dataframe thead th {\n",
              "        text-align: right;\n",
              "    }\n",
              "</style>\n",
              "<table border=\"1\" class=\"dataframe\">\n",
              "  <thead>\n",
              "    <tr style=\"text-align: right;\">\n",
              "      <th></th>\n",
              "      <th>Id</th>\n",
              "      <th>Column2</th>\n",
              "      <th>Booktitle</th>\n",
              "      <th>Author</th>\n",
              "      <th>Year</th>\n",
              "      <th>Genre</th>\n",
              "      <th>Summary</th>\n",
              "    </tr>\n",
              "  </thead>\n",
              "  <tbody>\n",
              "    <tr>\n",
              "      <th>0</th>\n",
              "      <td>620</td>\n",
              "      <td>m0hhy</td>\n",
              "      <td>Animal Farm</td>\n",
              "      <td>George Orwell</td>\n",
              "      <td>19450817</td>\n",
              "      <td>m016lj8 Roman u00e0 clef m06nbt Satire m0dwly ...</td>\n",
              "      <td>Old Major the old boar on the Manor Farm call...</td>\n",
              "    </tr>\n",
              "    <tr>\n",
              "      <th>1</th>\n",
              "      <td>843</td>\n",
              "      <td>m0k36</td>\n",
              "      <td>A Clockwork Orange</td>\n",
              "      <td>Anthony Burgess</td>\n",
              "      <td>1962</td>\n",
              "      <td>m06n90 Science Fiction m0l67h Novella m014dfn ...</td>\n",
              "      <td>Alex a teenager living in nearfuture England ...</td>\n",
              "    </tr>\n",
              "    <tr>\n",
              "      <th>2</th>\n",
              "      <td>986</td>\n",
              "      <td>m0ldx</td>\n",
              "      <td>The Plague</td>\n",
              "      <td>Albert Camus</td>\n",
              "      <td>1947</td>\n",
              "      <td>m02m4t Existentialism m02xlf Fiction m0pym5 Ab...</td>\n",
              "      <td>The text of The Plague is divided into five p...</td>\n",
              "    </tr>\n",
              "    <tr>\n",
              "      <th>3</th>\n",
              "      <td>1756</td>\n",
              "      <td>m0sww</td>\n",
              "      <td>An Enquiry Concerning Human Understanding</td>\n",
              "      <td>David Hume</td>\n",
              "      <td></td>\n",
              "      <td></td>\n",
              "      <td>The argument of the Enquiry proceeds by a ser...</td>\n",
              "    </tr>\n",
              "    <tr>\n",
              "      <th>4</th>\n",
              "      <td>2080</td>\n",
              "      <td>m0wkt</td>\n",
              "      <td>A Fire Upon the Deep</td>\n",
              "      <td>Vernor Vinge</td>\n",
              "      <td></td>\n",
              "      <td>m03lrw Hard science fiction m06n90 Science Fic...</td>\n",
              "      <td>The novel posits that space around the Milky ...</td>\n",
              "    </tr>\n",
              "  </tbody>\n",
              "</table>\n",
              "</div>\n",
              "    <div class=\"colab-df-buttons\">\n",
              "\n",
              "  <div class=\"colab-df-container\">\n",
              "    <button class=\"colab-df-convert\" onclick=\"convertToInteractive('df-54474cb4-2a54-49c9-8215-75468bdcc6d5')\"\n",
              "            title=\"Convert this dataframe to an interactive table.\"\n",
              "            style=\"display:none;\">\n",
              "\n",
              "  <svg xmlns=\"http://www.w3.org/2000/svg\" height=\"24px\" viewBox=\"0 -960 960 960\">\n",
              "    <path d=\"M120-120v-720h720v720H120Zm60-500h600v-160H180v160Zm220 220h160v-160H400v160Zm0 220h160v-160H400v160ZM180-400h160v-160H180v160Zm440 0h160v-160H620v160ZM180-180h160v-160H180v160Zm440 0h160v-160H620v160Z\"/>\n",
              "  </svg>\n",
              "    </button>\n",
              "\n",
              "  <style>\n",
              "    .colab-df-container {\n",
              "      display:flex;\n",
              "      gap: 12px;\n",
              "    }\n",
              "\n",
              "    .colab-df-convert {\n",
              "      background-color: #E8F0FE;\n",
              "      border: none;\n",
              "      border-radius: 50%;\n",
              "      cursor: pointer;\n",
              "      display: none;\n",
              "      fill: #1967D2;\n",
              "      height: 32px;\n",
              "      padding: 0 0 0 0;\n",
              "      width: 32px;\n",
              "    }\n",
              "\n",
              "    .colab-df-convert:hover {\n",
              "      background-color: #E2EBFA;\n",
              "      box-shadow: 0px 1px 2px rgba(60, 64, 67, 0.3), 0px 1px 3px 1px rgba(60, 64, 67, 0.15);\n",
              "      fill: #174EA6;\n",
              "    }\n",
              "\n",
              "    .colab-df-buttons div {\n",
              "      margin-bottom: 4px;\n",
              "    }\n",
              "\n",
              "    [theme=dark] .colab-df-convert {\n",
              "      background-color: #3B4455;\n",
              "      fill: #D2E3FC;\n",
              "    }\n",
              "\n",
              "    [theme=dark] .colab-df-convert:hover {\n",
              "      background-color: #434B5C;\n",
              "      box-shadow: 0px 1px 3px 1px rgba(0, 0, 0, 0.15);\n",
              "      filter: drop-shadow(0px 1px 2px rgba(0, 0, 0, 0.3));\n",
              "      fill: #FFFFFF;\n",
              "    }\n",
              "  </style>\n",
              "\n",
              "    <script>\n",
              "      const buttonEl =\n",
              "        document.querySelector('#df-54474cb4-2a54-49c9-8215-75468bdcc6d5 button.colab-df-convert');\n",
              "      buttonEl.style.display =\n",
              "        google.colab.kernel.accessAllowed ? 'block' : 'none';\n",
              "\n",
              "      async function convertToInteractive(key) {\n",
              "        const element = document.querySelector('#df-54474cb4-2a54-49c9-8215-75468bdcc6d5');\n",
              "        const dataTable =\n",
              "          await google.colab.kernel.invokeFunction('convertToInteractive',\n",
              "                                                    [key], {});\n",
              "        if (!dataTable) return;\n",
              "\n",
              "        const docLinkHtml = 'Like what you see? Visit the ' +\n",
              "          '<a target=\"_blank\" href=https://colab.research.google.com/notebooks/data_table.ipynb>data table notebook</a>'\n",
              "          + ' to learn more about interactive tables.';\n",
              "        element.innerHTML = '';\n",
              "        dataTable['output_type'] = 'display_data';\n",
              "        await google.colab.output.renderOutput(dataTable, element);\n",
              "        const docLink = document.createElement('div');\n",
              "        docLink.innerHTML = docLinkHtml;\n",
              "        element.appendChild(docLink);\n",
              "      }\n",
              "    </script>\n",
              "  </div>\n",
              "\n",
              "\n",
              "<div id=\"df-586d0fcf-b034-455c-a40d-92c9507e0f1a\">\n",
              "  <button class=\"colab-df-quickchart\" onclick=\"quickchart('df-586d0fcf-b034-455c-a40d-92c9507e0f1a')\"\n",
              "            title=\"Suggest charts\"\n",
              "            style=\"display:none;\">\n",
              "\n",
              "<svg xmlns=\"http://www.w3.org/2000/svg\" height=\"24px\"viewBox=\"0 0 24 24\"\n",
              "     width=\"24px\">\n",
              "    <g>\n",
              "        <path d=\"M19 3H5c-1.1 0-2 .9-2 2v14c0 1.1.9 2 2 2h14c1.1 0 2-.9 2-2V5c0-1.1-.9-2-2-2zM9 17H7v-7h2v7zm4 0h-2V7h2v10zm4 0h-2v-4h2v4z\"/>\n",
              "    </g>\n",
              "</svg>\n",
              "  </button>\n",
              "\n",
              "<style>\n",
              "  .colab-df-quickchart {\n",
              "      --bg-color: #E8F0FE;\n",
              "      --fill-color: #1967D2;\n",
              "      --hover-bg-color: #E2EBFA;\n",
              "      --hover-fill-color: #174EA6;\n",
              "      --disabled-fill-color: #AAA;\n",
              "      --disabled-bg-color: #DDD;\n",
              "  }\n",
              "\n",
              "  [theme=dark] .colab-df-quickchart {\n",
              "      --bg-color: #3B4455;\n",
              "      --fill-color: #D2E3FC;\n",
              "      --hover-bg-color: #434B5C;\n",
              "      --hover-fill-color: #FFFFFF;\n",
              "      --disabled-bg-color: #3B4455;\n",
              "      --disabled-fill-color: #666;\n",
              "  }\n",
              "\n",
              "  .colab-df-quickchart {\n",
              "    background-color: var(--bg-color);\n",
              "    border: none;\n",
              "    border-radius: 50%;\n",
              "    cursor: pointer;\n",
              "    display: none;\n",
              "    fill: var(--fill-color);\n",
              "    height: 32px;\n",
              "    padding: 0;\n",
              "    width: 32px;\n",
              "  }\n",
              "\n",
              "  .colab-df-quickchart:hover {\n",
              "    background-color: var(--hover-bg-color);\n",
              "    box-shadow: 0 1px 2px rgba(60, 64, 67, 0.3), 0 1px 3px 1px rgba(60, 64, 67, 0.15);\n",
              "    fill: var(--button-hover-fill-color);\n",
              "  }\n",
              "\n",
              "  .colab-df-quickchart-complete:disabled,\n",
              "  .colab-df-quickchart-complete:disabled:hover {\n",
              "    background-color: var(--disabled-bg-color);\n",
              "    fill: var(--disabled-fill-color);\n",
              "    box-shadow: none;\n",
              "  }\n",
              "\n",
              "  .colab-df-spinner {\n",
              "    border: 2px solid var(--fill-color);\n",
              "    border-color: transparent;\n",
              "    border-bottom-color: var(--fill-color);\n",
              "    animation:\n",
              "      spin 1s steps(1) infinite;\n",
              "  }\n",
              "\n",
              "  @keyframes spin {\n",
              "    0% {\n",
              "      border-color: transparent;\n",
              "      border-bottom-color: var(--fill-color);\n",
              "      border-left-color: var(--fill-color);\n",
              "    }\n",
              "    20% {\n",
              "      border-color: transparent;\n",
              "      border-left-color: var(--fill-color);\n",
              "      border-top-color: var(--fill-color);\n",
              "    }\n",
              "    30% {\n",
              "      border-color: transparent;\n",
              "      border-left-color: var(--fill-color);\n",
              "      border-top-color: var(--fill-color);\n",
              "      border-right-color: var(--fill-color);\n",
              "    }\n",
              "    40% {\n",
              "      border-color: transparent;\n",
              "      border-right-color: var(--fill-color);\n",
              "      border-top-color: var(--fill-color);\n",
              "    }\n",
              "    60% {\n",
              "      border-color: transparent;\n",
              "      border-right-color: var(--fill-color);\n",
              "    }\n",
              "    80% {\n",
              "      border-color: transparent;\n",
              "      border-right-color: var(--fill-color);\n",
              "      border-bottom-color: var(--fill-color);\n",
              "    }\n",
              "    90% {\n",
              "      border-color: transparent;\n",
              "      border-bottom-color: var(--fill-color);\n",
              "    }\n",
              "  }\n",
              "</style>\n",
              "\n",
              "  <script>\n",
              "    async function quickchart(key) {\n",
              "      const quickchartButtonEl =\n",
              "        document.querySelector('#' + key + ' button');\n",
              "      quickchartButtonEl.disabled = true;  // To prevent multiple clicks.\n",
              "      quickchartButtonEl.classList.add('colab-df-spinner');\n",
              "      try {\n",
              "        const charts = await google.colab.kernel.invokeFunction(\n",
              "            'suggestCharts', [key], {});\n",
              "      } catch (error) {\n",
              "        console.error('Error during call to suggestCharts:', error);\n",
              "      }\n",
              "      quickchartButtonEl.classList.remove('colab-df-spinner');\n",
              "      quickchartButtonEl.classList.add('colab-df-quickchart-complete');\n",
              "    }\n",
              "    (() => {\n",
              "      let quickchartButtonEl =\n",
              "        document.querySelector('#df-586d0fcf-b034-455c-a40d-92c9507e0f1a button');\n",
              "      quickchartButtonEl.style.display =\n",
              "        google.colab.kernel.accessAllowed ? 'block' : 'none';\n",
              "    })();\n",
              "  </script>\n",
              "</div>\n",
              "    </div>\n",
              "  </div>\n"
            ],
            "application/vnd.google.colaboratory.intrinsic+json": {
              "type": "dataframe",
              "variable_name": "df",
              "summary": "{\n  \"name\": \"df\",\n  \"rows\": 16559,\n  \"fields\": [\n    {\n      \"column\": \"Id\",\n      \"properties\": {\n        \"dtype\": \"string\",\n        \"num_unique_values\": 16559,\n        \"samples\": [\n          \"2011865\",\n          \"3056014\",\n          \"2903698\"\n        ],\n        \"semantic_type\": \"\",\n        \"description\": \"\"\n      }\n    },\n    {\n      \"column\": \"Column2\",\n      \"properties\": {\n        \"dtype\": \"string\",\n        \"num_unique_values\": 16556,\n        \"samples\": [\n          \"m06dymp\",\n          \"m08ngxk\",\n          \"m08bgp8\"\n        ],\n        \"semantic_type\": \"\",\n        \"description\": \"\"\n      }\n    },\n    {\n      \"column\": \"Booktitle\",\n      \"properties\": {\n        \"dtype\": \"string\",\n        \"num_unique_values\": 16270,\n        \"samples\": [\n          \"Science and Health with Key to the Scriptures\",\n          \"Donald Duk\",\n          \"Wings\"\n        ],\n        \"semantic_type\": \"\",\n        \"description\": \"\"\n      }\n    },\n    {\n      \"column\": \"Author\",\n      \"properties\": {\n        \"dtype\": \"category\",\n        \"num_unique_values\": 4715,\n        \"samples\": [\n          \"William Wells Brown\",\n          \"Thomas M Reid\",\n          \"Donald Corley\"\n        ],\n        \"semantic_type\": \"\",\n        \"description\": \"\"\n      }\n    },\n    {\n      \"column\": \"Year\",\n      \"properties\": {\n        \"dtype\": \"category\",\n        \"num_unique_values\": 2640,\n        \"samples\": [\n          \"20090908\",\n          \"19840701\",\n          \"20030909\"\n        ],\n        \"semantic_type\": \"\",\n        \"description\": \"\"\n      }\n    },\n    {\n      \"column\": \"Genre\",\n      \"properties\": {\n        \"dtype\": \"category\",\n        \"num_unique_values\": 2155,\n        \"samples\": [\n          \"m03g3w History m05h83 Nonfiction m05wkw Photography\",\n          \"m05h0n Nature m06n90 Science Fiction m014dfn Speculative fiction m02xlf Fiction\",\n          \"m0dwly Childrens literature m03npn Horror m014dfn Speculative fiction m02n4kr Mystery m01hmnh Fantasy m02xlf Fiction m0hwxm Historical novel\"\n        ],\n        \"semantic_type\": \"\",\n        \"description\": \"\"\n      }\n    },\n    {\n      \"column\": \"Summary\",\n      \"properties\": {\n        \"dtype\": \"string\",\n        \"num_unique_values\": 16531,\n        \"samples\": [\n          \" The novels protagonist mildmannered middleaged Joe Boyd is depicted as a lifelong fan of the hapless Washington Senators As the novel begins the Senators are losing ground in the American League to their longtime nemesis the New York Yankees The discouraged Boyd runs into an unexpected offer from a fasttalking confidence man who introduces himself as Mr Applegate Applegate offers to transform Joe Boyd into Joe Hardy a young baseball superstar and facilitate his signing with the Senators front office so that Hardy can help salvage the Senators lost season Boyd suspicious negotiates with Applegate and extracts a promise that the transformation will only be temporary and after helping the Senators win a suitable number of games Hardy will be able to retransfer himself back to his Joe Boyd personality The transformation takes place Hardy joins the Senators and all begins to develop as Applegate had predicted However the new baseball superstar begins to realize that his deal with Applegate may not be so temporary and he may have let himself in for more than he had expected to get As Hardys doubts grow over his predicament Applegate presents Hardy with love interest Lola depicted as a glamorous temptress in the style of the 1950s\\n\",\n          \" Seven years ago Vivek Vicky Rai the playboy son of the Home Minister of Uttar Pradesh murdered bartender Ruby Gill at a trendy restaurant in New Delhi simply because she refused to serve him a drink The opening murder committed by Vicky Rai is similar to the Jessica Lal murder case in which the killer was Manu Sharma Now Vicky Rai has been killed at the party he was throwing to celebrate his acquittal The police recover six guests with guns in their possession a corrupt bureaucrat who claims to have become Mahatma Gandhi an American tourist infatuated with an Indian actress a Stone Age tribesman on a quest to recover a sacred stone a Bollywood sex symbol with a guilty secret a mobilephone thief who dreams big and an ambitious politician prepared to stoop low Swarup unravels the lives and motives of the six suspects\\n\",\n          \" In June 1826 the Sultan Mahmud II disbands and slaughters the Janissaries once elite troops of the Ottoman Empire but long an unruly element beyond the control of the Sultan or anybody else Ten years later the new Westernized corps which replaced the Janissaries are to perform a military exercise Ten days before the event four officers disappear subsequently one officer is found dead The general entrusts Yashim the eunuch with solving the mystery Meanwhile the Sultans newest concubine is murdered and the Sultans mothers jewelry stolen Yashim must simultaneously investigate three different cases The cases bring Yashim in and out of the palace to various embassies a mosque and the alleyways and streets of Istanbul To solve the cases Yashim employs the assistance of a Polish ambassador and the wife of a Russian ambassador He discovers that the cases are related and that they not only involve a plot for revenge by surviving Janissaries hidden somewhere but also the power struggle between the palace eunuchs and the militarys extreme pursuit of democratization In the end Yashim against all odds succeeds in preventing several conspiracies\\n\"\n        ],\n        \"semantic_type\": \"\",\n        \"description\": \"\"\n      }\n    }\n  ]\n}"
            }
          },
          "metadata": {},
          "execution_count": 4
        }
      ]
    },
    {
      "cell_type": "markdown",
      "source": [
        "### Genre Cleaning\n",
        "The genre column in our data contained encoded identifiers along with the actual genre names. These identifiers were not meaningful for our analysis and made the data harder to understand.\n",
        "\n",
        "### Handling Genre Cleaning\n",
        "To clean the genre column, we created a `clean_genre` function that uses regular expressions to remove these identifiers and keep only the genre names. The function removes any character that is not a letter or a space, effectively keeping only words.\n",
        "\n",
        "Here's the `clean_genre` function:\n",
        "\n",
        "```python\n",
        "def clean_genre(text):\n",
        "    # Remove words that contain numbers\n",
        "    text = re.sub(r'\\b\\w*\\d\\w*\\b', '', text)\n",
        "    return text\n"
      ],
      "metadata": {
        "id": "PCnxmsWXnydk"
      }
    },
    {
      "cell_type": "code",
      "source": [
        "def clean_genre(text):\n",
        "    # Remove words that contain numbers\n",
        "    text = re.sub(r'\\b\\w*\\d\\w*\\b', '', text)\n",
        "    return text\n",
        "\n",
        "\n",
        "df['Genre'] = df['Genre'].apply(clean_genre)\n"
      ],
      "metadata": {
        "id": "nn534laMnzWv"
      },
      "execution_count": 83,
      "outputs": []
    },
    {
      "cell_type": "code",
      "source": [
        "import numpy as np\n",
        "\n",
        "# Replace empty strings with np.nan\n",
        "df.replace(\"\", np.nan, inplace=True)"
      ],
      "metadata": {
        "id": "4K2MjwI9SWDP"
      },
      "execution_count": 84,
      "outputs": []
    },
    {
      "cell_type": "code",
      "source": [
        "#lets check the nan values\n",
        "df.isna().sum()"
      ],
      "metadata": {
        "id": "a3Imdj0gSvZQ",
        "colab": {
          "base_uri": "https://localhost:8080/"
        },
        "outputId": "e8328086-0409-412b-916a-6090585b01cb"
      },
      "execution_count": null,
      "outputs": [
        {
          "output_type": "execute_result",
          "data": {
            "text/plain": [
              "Id              0\n",
              "Column2         0\n",
              "Booktitle       0\n",
              "Author       2382\n",
              "Year         5610\n",
              "Genre        3718\n",
              "Summary         0\n",
              "dtype: int64"
            ]
          },
          "metadata": {},
          "execution_count": 7
        }
      ]
    },
    {
      "cell_type": "code",
      "source": [
        "#we can drop Id, Column2, year and last summary columns\n",
        "df.drop(columns=['Column2'],inplace=True)"
      ],
      "metadata": {
        "id": "721eETGOTBFI"
      },
      "execution_count": null,
      "outputs": []
    },
    {
      "cell_type": "code",
      "source": [
        "df.head()"
      ],
      "metadata": {
        "colab": {
          "base_uri": "https://localhost:8080/",
          "height": 293
        },
        "id": "GKg5Z1sTsNIy",
        "outputId": "1fb447d8-0fb3-479a-ed88-30be5c2d47ae"
      },
      "execution_count": null,
      "outputs": [
        {
          "output_type": "execute_result",
          "data": {
            "text/plain": [
              "     Id                                  Booktitle           Author      Year  \\\n",
              "0   620                                Animal Farm    George Orwell  19450817   \n",
              "1   843                         A Clockwork Orange  Anthony Burgess      1962   \n",
              "2   986                                 The Plague     Albert Camus      1947   \n",
              "3  1756  An Enquiry Concerning Human Understanding       David Hume       NaN   \n",
              "4  2080                       A Fire Upon the Deep     Vernor Vinge       NaN   \n",
              "\n",
              "                                               Genre  \\\n",
              "0   Roman  clef  Satire  Childrens literature  Sp...   \n",
              "1   Science Fiction  Novella  Speculative fiction...   \n",
              "2   Existentialism  Fiction  Absurdist fiction  N...   \n",
              "3                                                NaN   \n",
              "4   Hard science fiction  Science Fiction  Specul...   \n",
              "\n",
              "                                             Summary  \n",
              "0   Old Major the old boar on the Manor Farm call...  \n",
              "1   Alex a teenager living in nearfuture England ...  \n",
              "2   The text of The Plague is divided into five p...  \n",
              "3   The argument of the Enquiry proceeds by a ser...  \n",
              "4   The novel posits that space around the Milky ...  "
            ],
            "text/html": [
              "\n",
              "  <div id=\"df-39027320-e722-45d8-bffc-dcd3a0473589\" class=\"colab-df-container\">\n",
              "    <div>\n",
              "<style scoped>\n",
              "    .dataframe tbody tr th:only-of-type {\n",
              "        vertical-align: middle;\n",
              "    }\n",
              "\n",
              "    .dataframe tbody tr th {\n",
              "        vertical-align: top;\n",
              "    }\n",
              "\n",
              "    .dataframe thead th {\n",
              "        text-align: right;\n",
              "    }\n",
              "</style>\n",
              "<table border=\"1\" class=\"dataframe\">\n",
              "  <thead>\n",
              "    <tr style=\"text-align: right;\">\n",
              "      <th></th>\n",
              "      <th>Id</th>\n",
              "      <th>Booktitle</th>\n",
              "      <th>Author</th>\n",
              "      <th>Year</th>\n",
              "      <th>Genre</th>\n",
              "      <th>Summary</th>\n",
              "    </tr>\n",
              "  </thead>\n",
              "  <tbody>\n",
              "    <tr>\n",
              "      <th>0</th>\n",
              "      <td>620</td>\n",
              "      <td>Animal Farm</td>\n",
              "      <td>George Orwell</td>\n",
              "      <td>19450817</td>\n",
              "      <td>Roman  clef  Satire  Childrens literature  Sp...</td>\n",
              "      <td>Old Major the old boar on the Manor Farm call...</td>\n",
              "    </tr>\n",
              "    <tr>\n",
              "      <th>1</th>\n",
              "      <td>843</td>\n",
              "      <td>A Clockwork Orange</td>\n",
              "      <td>Anthony Burgess</td>\n",
              "      <td>1962</td>\n",
              "      <td>Science Fiction  Novella  Speculative fiction...</td>\n",
              "      <td>Alex a teenager living in nearfuture England ...</td>\n",
              "    </tr>\n",
              "    <tr>\n",
              "      <th>2</th>\n",
              "      <td>986</td>\n",
              "      <td>The Plague</td>\n",
              "      <td>Albert Camus</td>\n",
              "      <td>1947</td>\n",
              "      <td>Existentialism  Fiction  Absurdist fiction  N...</td>\n",
              "      <td>The text of The Plague is divided into five p...</td>\n",
              "    </tr>\n",
              "    <tr>\n",
              "      <th>3</th>\n",
              "      <td>1756</td>\n",
              "      <td>An Enquiry Concerning Human Understanding</td>\n",
              "      <td>David Hume</td>\n",
              "      <td>NaN</td>\n",
              "      <td>NaN</td>\n",
              "      <td>The argument of the Enquiry proceeds by a ser...</td>\n",
              "    </tr>\n",
              "    <tr>\n",
              "      <th>4</th>\n",
              "      <td>2080</td>\n",
              "      <td>A Fire Upon the Deep</td>\n",
              "      <td>Vernor Vinge</td>\n",
              "      <td>NaN</td>\n",
              "      <td>Hard science fiction  Science Fiction  Specul...</td>\n",
              "      <td>The novel posits that space around the Milky ...</td>\n",
              "    </tr>\n",
              "  </tbody>\n",
              "</table>\n",
              "</div>\n",
              "    <div class=\"colab-df-buttons\">\n",
              "\n",
              "  <div class=\"colab-df-container\">\n",
              "    <button class=\"colab-df-convert\" onclick=\"convertToInteractive('df-39027320-e722-45d8-bffc-dcd3a0473589')\"\n",
              "            title=\"Convert this dataframe to an interactive table.\"\n",
              "            style=\"display:none;\">\n",
              "\n",
              "  <svg xmlns=\"http://www.w3.org/2000/svg\" height=\"24px\" viewBox=\"0 -960 960 960\">\n",
              "    <path d=\"M120-120v-720h720v720H120Zm60-500h600v-160H180v160Zm220 220h160v-160H400v160Zm0 220h160v-160H400v160ZM180-400h160v-160H180v160Zm440 0h160v-160H620v160ZM180-180h160v-160H180v160Zm440 0h160v-160H620v160Z\"/>\n",
              "  </svg>\n",
              "    </button>\n",
              "\n",
              "  <style>\n",
              "    .colab-df-container {\n",
              "      display:flex;\n",
              "      gap: 12px;\n",
              "    }\n",
              "\n",
              "    .colab-df-convert {\n",
              "      background-color: #E8F0FE;\n",
              "      border: none;\n",
              "      border-radius: 50%;\n",
              "      cursor: pointer;\n",
              "      display: none;\n",
              "      fill: #1967D2;\n",
              "      height: 32px;\n",
              "      padding: 0 0 0 0;\n",
              "      width: 32px;\n",
              "    }\n",
              "\n",
              "    .colab-df-convert:hover {\n",
              "      background-color: #E2EBFA;\n",
              "      box-shadow: 0px 1px 2px rgba(60, 64, 67, 0.3), 0px 1px 3px 1px rgba(60, 64, 67, 0.15);\n",
              "      fill: #174EA6;\n",
              "    }\n",
              "\n",
              "    .colab-df-buttons div {\n",
              "      margin-bottom: 4px;\n",
              "    }\n",
              "\n",
              "    [theme=dark] .colab-df-convert {\n",
              "      background-color: #3B4455;\n",
              "      fill: #D2E3FC;\n",
              "    }\n",
              "\n",
              "    [theme=dark] .colab-df-convert:hover {\n",
              "      background-color: #434B5C;\n",
              "      box-shadow: 0px 1px 3px 1px rgba(0, 0, 0, 0.15);\n",
              "      filter: drop-shadow(0px 1px 2px rgba(0, 0, 0, 0.3));\n",
              "      fill: #FFFFFF;\n",
              "    }\n",
              "  </style>\n",
              "\n",
              "    <script>\n",
              "      const buttonEl =\n",
              "        document.querySelector('#df-39027320-e722-45d8-bffc-dcd3a0473589 button.colab-df-convert');\n",
              "      buttonEl.style.display =\n",
              "        google.colab.kernel.accessAllowed ? 'block' : 'none';\n",
              "\n",
              "      async function convertToInteractive(key) {\n",
              "        const element = document.querySelector('#df-39027320-e722-45d8-bffc-dcd3a0473589');\n",
              "        const dataTable =\n",
              "          await google.colab.kernel.invokeFunction('convertToInteractive',\n",
              "                                                    [key], {});\n",
              "        if (!dataTable) return;\n",
              "\n",
              "        const docLinkHtml = 'Like what you see? Visit the ' +\n",
              "          '<a target=\"_blank\" href=https://colab.research.google.com/notebooks/data_table.ipynb>data table notebook</a>'\n",
              "          + ' to learn more about interactive tables.';\n",
              "        element.innerHTML = '';\n",
              "        dataTable['output_type'] = 'display_data';\n",
              "        await google.colab.output.renderOutput(dataTable, element);\n",
              "        const docLink = document.createElement('div');\n",
              "        docLink.innerHTML = docLinkHtml;\n",
              "        element.appendChild(docLink);\n",
              "      }\n",
              "    </script>\n",
              "  </div>\n",
              "\n",
              "\n",
              "<div id=\"df-8a2d0d61-bc58-4fb3-b542-922a7e81ed78\">\n",
              "  <button class=\"colab-df-quickchart\" onclick=\"quickchart('df-8a2d0d61-bc58-4fb3-b542-922a7e81ed78')\"\n",
              "            title=\"Suggest charts\"\n",
              "            style=\"display:none;\">\n",
              "\n",
              "<svg xmlns=\"http://www.w3.org/2000/svg\" height=\"24px\"viewBox=\"0 0 24 24\"\n",
              "     width=\"24px\">\n",
              "    <g>\n",
              "        <path d=\"M19 3H5c-1.1 0-2 .9-2 2v14c0 1.1.9 2 2 2h14c1.1 0 2-.9 2-2V5c0-1.1-.9-2-2-2zM9 17H7v-7h2v7zm4 0h-2V7h2v10zm4 0h-2v-4h2v4z\"/>\n",
              "    </g>\n",
              "</svg>\n",
              "  </button>\n",
              "\n",
              "<style>\n",
              "  .colab-df-quickchart {\n",
              "      --bg-color: #E8F0FE;\n",
              "      --fill-color: #1967D2;\n",
              "      --hover-bg-color: #E2EBFA;\n",
              "      --hover-fill-color: #174EA6;\n",
              "      --disabled-fill-color: #AAA;\n",
              "      --disabled-bg-color: #DDD;\n",
              "  }\n",
              "\n",
              "  [theme=dark] .colab-df-quickchart {\n",
              "      --bg-color: #3B4455;\n",
              "      --fill-color: #D2E3FC;\n",
              "      --hover-bg-color: #434B5C;\n",
              "      --hover-fill-color: #FFFFFF;\n",
              "      --disabled-bg-color: #3B4455;\n",
              "      --disabled-fill-color: #666;\n",
              "  }\n",
              "\n",
              "  .colab-df-quickchart {\n",
              "    background-color: var(--bg-color);\n",
              "    border: none;\n",
              "    border-radius: 50%;\n",
              "    cursor: pointer;\n",
              "    display: none;\n",
              "    fill: var(--fill-color);\n",
              "    height: 32px;\n",
              "    padding: 0;\n",
              "    width: 32px;\n",
              "  }\n",
              "\n",
              "  .colab-df-quickchart:hover {\n",
              "    background-color: var(--hover-bg-color);\n",
              "    box-shadow: 0 1px 2px rgba(60, 64, 67, 0.3), 0 1px 3px 1px rgba(60, 64, 67, 0.15);\n",
              "    fill: var(--button-hover-fill-color);\n",
              "  }\n",
              "\n",
              "  .colab-df-quickchart-complete:disabled,\n",
              "  .colab-df-quickchart-complete:disabled:hover {\n",
              "    background-color: var(--disabled-bg-color);\n",
              "    fill: var(--disabled-fill-color);\n",
              "    box-shadow: none;\n",
              "  }\n",
              "\n",
              "  .colab-df-spinner {\n",
              "    border: 2px solid var(--fill-color);\n",
              "    border-color: transparent;\n",
              "    border-bottom-color: var(--fill-color);\n",
              "    animation:\n",
              "      spin 1s steps(1) infinite;\n",
              "  }\n",
              "\n",
              "  @keyframes spin {\n",
              "    0% {\n",
              "      border-color: transparent;\n",
              "      border-bottom-color: var(--fill-color);\n",
              "      border-left-color: var(--fill-color);\n",
              "    }\n",
              "    20% {\n",
              "      border-color: transparent;\n",
              "      border-left-color: var(--fill-color);\n",
              "      border-top-color: var(--fill-color);\n",
              "    }\n",
              "    30% {\n",
              "      border-color: transparent;\n",
              "      border-left-color: var(--fill-color);\n",
              "      border-top-color: var(--fill-color);\n",
              "      border-right-color: var(--fill-color);\n",
              "    }\n",
              "    40% {\n",
              "      border-color: transparent;\n",
              "      border-right-color: var(--fill-color);\n",
              "      border-top-color: var(--fill-color);\n",
              "    }\n",
              "    60% {\n",
              "      border-color: transparent;\n",
              "      border-right-color: var(--fill-color);\n",
              "    }\n",
              "    80% {\n",
              "      border-color: transparent;\n",
              "      border-right-color: var(--fill-color);\n",
              "      border-bottom-color: var(--fill-color);\n",
              "    }\n",
              "    90% {\n",
              "      border-color: transparent;\n",
              "      border-bottom-color: var(--fill-color);\n",
              "    }\n",
              "  }\n",
              "</style>\n",
              "\n",
              "  <script>\n",
              "    async function quickchart(key) {\n",
              "      const quickchartButtonEl =\n",
              "        document.querySelector('#' + key + ' button');\n",
              "      quickchartButtonEl.disabled = true;  // To prevent multiple clicks.\n",
              "      quickchartButtonEl.classList.add('colab-df-spinner');\n",
              "      try {\n",
              "        const charts = await google.colab.kernel.invokeFunction(\n",
              "            'suggestCharts', [key], {});\n",
              "      } catch (error) {\n",
              "        console.error('Error during call to suggestCharts:', error);\n",
              "      }\n",
              "      quickchartButtonEl.classList.remove('colab-df-spinner');\n",
              "      quickchartButtonEl.classList.add('colab-df-quickchart-complete');\n",
              "    }\n",
              "    (() => {\n",
              "      let quickchartButtonEl =\n",
              "        document.querySelector('#df-8a2d0d61-bc58-4fb3-b542-922a7e81ed78 button');\n",
              "      quickchartButtonEl.style.display =\n",
              "        google.colab.kernel.accessAllowed ? 'block' : 'none';\n",
              "    })();\n",
              "  </script>\n",
              "</div>\n",
              "    </div>\n",
              "  </div>\n"
            ],
            "application/vnd.google.colaboratory.intrinsic+json": {
              "type": "dataframe",
              "variable_name": "df",
              "summary": "{\n  \"name\": \"df\",\n  \"rows\": 16559,\n  \"fields\": [\n    {\n      \"column\": \"Id\",\n      \"properties\": {\n        \"dtype\": \"string\",\n        \"num_unique_values\": 16559,\n        \"samples\": [\n          \"2011865\",\n          \"3056014\",\n          \"2903698\"\n        ],\n        \"semantic_type\": \"\",\n        \"description\": \"\"\n      }\n    },\n    {\n      \"column\": \"Booktitle\",\n      \"properties\": {\n        \"dtype\": \"string\",\n        \"num_unique_values\": 16270,\n        \"samples\": [\n          \"Science and Health with Key to the Scriptures\",\n          \"Donald Duk\",\n          \"Wings\"\n        ],\n        \"semantic_type\": \"\",\n        \"description\": \"\"\n      }\n    },\n    {\n      \"column\": \"Author\",\n      \"properties\": {\n        \"dtype\": \"category\",\n        \"num_unique_values\": 4714,\n        \"samples\": [\n          \"Quentin Fiore\",\n          \"Richard Baker\",\n          \"Kerry Greenwood\"\n        ],\n        \"semantic_type\": \"\",\n        \"description\": \"\"\n      }\n    },\n    {\n      \"column\": \"Year\",\n      \"properties\": {\n        \"dtype\": \"category\",\n        \"num_unique_values\": 2639,\n        \"samples\": [\n          \"19690812\",\n          \"20060103\",\n          \"20070205\"\n        ],\n        \"semantic_type\": \"\",\n        \"description\": \"\"\n      }\n    },\n    {\n      \"column\": \"Genre\",\n      \"properties\": {\n        \"dtype\": \"category\",\n        \"num_unique_values\": 2154,\n        \"samples\": [\n          \" Thriller  Novel  Childrens literature  Fiction  Suspense\",\n          \" Nature  Science Fiction  Speculative fiction  Fiction\",\n          \" Mystery  Science Fiction  Speculative fiction  Novel\"\n        ],\n        \"semantic_type\": \"\",\n        \"description\": \"\"\n      }\n    },\n    {\n      \"column\": \"Summary\",\n      \"properties\": {\n        \"dtype\": \"string\",\n        \"num_unique_values\": 16531,\n        \"samples\": [\n          \" The novels protagonist mildmannered middleaged Joe Boyd is depicted as a lifelong fan of the hapless Washington Senators As the novel begins the Senators are losing ground in the American League to their longtime nemesis the New York Yankees The discouraged Boyd runs into an unexpected offer from a fasttalking confidence man who introduces himself as Mr Applegate Applegate offers to transform Joe Boyd into Joe Hardy a young baseball superstar and facilitate his signing with the Senators front office so that Hardy can help salvage the Senators lost season Boyd suspicious negotiates with Applegate and extracts a promise that the transformation will only be temporary and after helping the Senators win a suitable number of games Hardy will be able to retransfer himself back to his Joe Boyd personality The transformation takes place Hardy joins the Senators and all begins to develop as Applegate had predicted However the new baseball superstar begins to realize that his deal with Applegate may not be so temporary and he may have let himself in for more than he had expected to get As Hardys doubts grow over his predicament Applegate presents Hardy with love interest Lola depicted as a glamorous temptress in the style of the 1950s\\n\",\n          \" Seven years ago Vivek Vicky Rai the playboy son of the Home Minister of Uttar Pradesh murdered bartender Ruby Gill at a trendy restaurant in New Delhi simply because she refused to serve him a drink The opening murder committed by Vicky Rai is similar to the Jessica Lal murder case in which the killer was Manu Sharma Now Vicky Rai has been killed at the party he was throwing to celebrate his acquittal The police recover six guests with guns in their possession a corrupt bureaucrat who claims to have become Mahatma Gandhi an American tourist infatuated with an Indian actress a Stone Age tribesman on a quest to recover a sacred stone a Bollywood sex symbol with a guilty secret a mobilephone thief who dreams big and an ambitious politician prepared to stoop low Swarup unravels the lives and motives of the six suspects\\n\",\n          \" In June 1826 the Sultan Mahmud II disbands and slaughters the Janissaries once elite troops of the Ottoman Empire but long an unruly element beyond the control of the Sultan or anybody else Ten years later the new Westernized corps which replaced the Janissaries are to perform a military exercise Ten days before the event four officers disappear subsequently one officer is found dead The general entrusts Yashim the eunuch with solving the mystery Meanwhile the Sultans newest concubine is murdered and the Sultans mothers jewelry stolen Yashim must simultaneously investigate three different cases The cases bring Yashim in and out of the palace to various embassies a mosque and the alleyways and streets of Istanbul To solve the cases Yashim employs the assistance of a Polish ambassador and the wife of a Russian ambassador He discovers that the cases are related and that they not only involve a plot for revenge by surviving Janissaries hidden somewhere but also the power struggle between the palace eunuchs and the militarys extreme pursuit of democratization In the end Yashim against all odds succeeds in preventing several conspiracies\\n\"\n        ],\n        \"semantic_type\": \"\",\n        \"description\": \"\"\n      }\n    }\n  ]\n}"
            }
          },
          "metadata": {},
          "execution_count": 9
        }
      ]
    },
    {
      "cell_type": "code",
      "source": [
        "df[\"Tokens\"] = df[\"Summary\"].str.split()\n",
        "df[\"Summary_length\"] = df[\"Tokens\"].apply(len)"
      ],
      "metadata": {
        "id": "8RWDk4UWBxM_"
      },
      "execution_count": null,
      "outputs": []
    },
    {
      "cell_type": "code",
      "source": [
        "df[\"Summary_length\"].plot(kind=\"hist\")\n"
      ],
      "metadata": {
        "id": "7np-OVgWCPFY",
        "outputId": "9de2e571-41f1-4534-abcb-5ee185ce3b74",
        "colab": {
          "base_uri": "https://localhost:8080/",
          "height": 448
        }
      },
      "execution_count": null,
      "outputs": [
        {
          "output_type": "execute_result",
          "data": {
            "text/plain": [
              "<Axes: ylabel='Frequency'>"
            ]
          },
          "metadata": {},
          "execution_count": 30
        },
        {
          "output_type": "display_data",
          "data": {
            "text/plain": [
              "<Figure size 640x480 with 1 Axes>"
            ],
            "image/png": "[encoded data removed]"
          },
          "metadata": {}
        }
      ]
    },
    {
      "cell_type": "code",
      "source": [
        "max_summary_length = df[\"Summary_length\"].max()\n",
        "min_summary_length = df[\"Summary_length\"].min()\n",
        "\n",
        "print(f\"Maximum summary length: {max_summary_length}\")\n",
        "print(f\"Minimum summary length: {min_summary_length}\")"
      ],
      "metadata": {
        "id": "SF0uTPvzEIjj",
        "outputId": "3348b11d-6d04-4b3d-e3be-6cad154f5610",
        "colab": {
          "base_uri": "https://localhost:8080/"
        }
      },
      "execution_count": null,
      "outputs": [
        {
          "output_type": "stream",
          "name": "stdout",
          "text": [
            "Maximum summary length: 10317\n",
            "Minimum summary length: 1\n"
          ]
        }
      ]
    },
    {
      "cell_type": "code",
      "source": [
        "#we convert summaries with less than 10 words to nan\n",
        "df.loc[df[\"Summary_length\"] < 10, \"Summary\"] = np.nan"
      ],
      "metadata": {
        "id": "amTPrfE7FlLL"
      },
      "execution_count": null,
      "outputs": []
    },
    {
      "cell_type": "code",
      "source": [
        "df.isna().sum()"
      ],
      "metadata": {
        "id": "tKOsep7zF6K2",
        "outputId": "b5b35cfa-c9de-48f7-f715-a4e55aef2ffb",
        "colab": {
          "base_uri": "https://localhost:8080/"
        }
      },
      "execution_count": null,
      "outputs": [
        {
          "output_type": "execute_result",
          "data": {
            "text/plain": [
              "Id                   0\n",
              "Booktitle            0\n",
              "Author            2382\n",
              "Year              5610\n",
              "Genre             3718\n",
              "Summary             63\n",
              "Tokens               0\n",
              "Summary_length       0\n",
              "dtype: int64"
            ]
          },
          "metadata": {},
          "execution_count": 15
        }
      ]
    },
    {
      "cell_type": "markdown",
      "source": [
        "#Missing values\n",
        "\n",
        "we have missing values in the summary and genre column."
      ],
      "metadata": {
        "id": "eMOiLhj-EY1X"
      }
    },
    {
      "cell_type": "markdown",
      "source": [
        "### Handling Missing Values in Genre\n",
        "\n",
        "The genre column in our data contained some missing values, represented as empty strings (\"\"). Missing values can hinder our data analysis process, so it's important to handle them appropriately.\n",
        "\n",
        "## Filling Missing Values\n",
        "\n",
        "There are several strategies we can use to fill these missing values:\n",
        "\n",
        "1. **Group by Author**: One approach is to group the data by the author, and fill the missing genre values based on the most common genre for each author. This assumes that an author typically writes in the same genre.\n",
        "\n",
        "```python\n",
        "# Fill missing values based on author's most common genre\n",
        "df['Genre'] = df.groupby('Author')['Genre'].apply(lambda x: x.fillna(x.mode()[0] if not x.mode().empty else \"\"))\n",
        "```\n",
        "\n",
        "2. **Use NLP Models**: If there are still a lot of missing values, we can use Natural Language Processing (NLP) models or Language Model (LM) to predict the genre based on other information, such as the book summary.\n",
        "\n",
        "3. **Manual Filling**: If the number of missing values is small, we could also manually determine the missing values by researching the genre of the specific books.\n"
      ],
      "metadata": {
        "id": "FNc8yFN6RU1P"
      }
    },
    {
      "cell_type": "code",
      "source": [
        "df.groupby('Author')['Genre'].value_counts()"
      ],
      "metadata": {
        "colab": {
          "base_uri": "https://localhost:8080/"
        },
        "id": "3u5Bn7g3R6JZ",
        "outputId": "0d63485b-9539-4613-bb1d-d77368931aff"
      },
      "execution_count": null,
      "outputs": [
        {
          "output_type": "execute_result",
          "data": {
            "text/plain": [
              "Author         Genre                           \n",
              "                                                   1596\n",
              "                Science Fiction                     106\n",
              "                Childrens literature                 74\n",
              "                Novel                                61\n",
              "                Fantasy                              48\n",
              "                                                   ... \n",
              "mile Zola                                             1\n",
              "                Short story                           1\n",
              "                Psychological novel                   1\n",
              "                Psychology  Psychological novel       1\n",
              "sne Seierstad   Nonfiction                            1\n",
              "Name: count, Length: 9638, dtype: int64"
            ]
          },
          "metadata": {},
          "execution_count": 14
        }
      ]
    },
    {
      "cell_type": "markdown",
      "source": [],
      "metadata": {
        "id": "GB3wWqKv3XO4"
      }
    },
    {
      "cell_type": "markdown",
      "source": [
        "# Genre Searching Solution\n",
        "\n",
        "after trying some simple solutions, I came up with this one.\n",
        "we don't have any missing data in the Book_name column, so we can use it as a keyword\n",
        "to search for the genre.\n"
      ],
      "metadata": {
        "id": "iZKn0NPm3_i8"
      }
    },
    {
      "cell_type": "code",
      "source": [
        "#not working\n",
        "import requests\n",
        "from bs4 import BeautifulSoup\n",
        "\n",
        "def get_book_genre(book_name):\n",
        "    # Replace spaces with '+' for the URL\n",
        "    book_name = book_name.replace(' ', '+')\n",
        "\n",
        "    # Use Google to search for the book\n",
        "    url = f\"https://www.google.com/search?q={book_name}+book+genre\"\n",
        "\n",
        "    # Send a request to the website\n",
        "    response = requests.get(url)\n",
        "\n",
        "    # Parse the HTML content of the page with BeautifulSoup\n",
        "    soup = BeautifulSoup(response.content, 'html.parser')\n",
        "    #print(soup.prettify())\n",
        "\n",
        "    # Find the genre of the book\n",
        "    genre_list = soup.find_all('div', {'class': 'BNeawe s3v9rd AP7Wnd'})\n",
        "\n",
        "    # Extract the text from each genre element and store them in a list\n",
        "    genres = [genre.get_text() for genre in genre_list if \"Genre\" in genre.get_text() or \"Subject\" in genre.get_text()]\n",
        "\n",
        "    try:\n",
        "      genres = genres[0]\n",
        "\n",
        "      #the output is Genres: Allegory, Fable, Satire, and more we want the first tree genres in a list\n",
        "      _, genres = genres.split(\": \")\n",
        "      genres = np.array(genres.split(\" \"))\n",
        "      if len(genres) > 3:\n",
        "          genres = genres[:3]\n",
        "      else:\n",
        "          pass\n",
        "      return genres\n",
        "    except:\n",
        "      genres = [genre.get_text() for genre in genre_list]\n",
        "      print(genres[0])\n",
        "      print(book_name)\n",
        "      return np.nan\n",
        "\n",
        "\n",
        "book_name = \"Hamlet\"  # Example book\n",
        "print(get_book_genre(book_name))\n",
        "#the output is Genres: Allegory, Fable, Satire, and more we want the first tree genres in a list\n",
        "\n"
      ],
      "metadata": {
        "colab": {
          "base_uri": "https://localhost:8080/"
        },
        "id": "Oz0Alby4vq12",
        "outputId": "17fe8091-1f0f-4056-f4d0-ee57def93a1c"
      },
      "execution_count": null,
      "outputs": [
        {
          "output_type": "stream",
          "name": "stdout",
          "text": [
            "['Tragedy' 'and' 'Drama']\n"
          ]
        }
      ]
    },
    {
      "cell_type": "code",
      "source": [
        "genre_missing_fill = df[df[\"Genre\"].isna()].apply(lambda x: get_book_genre(x[\"Booktitle\"]), axis=1)"
      ],
      "metadata": {
        "id": "wc_uNvq0HkN5"
      },
      "execution_count": null,
      "outputs": []
    },
    {
      "cell_type": "code",
      "source": [
        "#actual solution\n",
        "import requests\n",
        "\n",
        "books_for_manual_search = []\n",
        "\n",
        "def get_book_genre(book_name):\n",
        "    # Replace spaces with '+' for the URL\n",
        "    book_name = book_name.replace(' ', '+')\n",
        "\n",
        "    # Use the Google Books API to search for the book\n",
        "    url = f\"https://www.googleapis.com/books/v1/volumes?q={book_name}\"\n",
        "\n",
        "    # Send a request to the API\n",
        "    response = requests.get(url)\n",
        "\n",
        "    # Convert the response to JSON\n",
        "    data = response.json()\n",
        "\n",
        "    # Get the first book from the results\n",
        "    try:\n",
        "      book = data['items'][0]\n",
        "    except:\n",
        "      print(book_name)\n",
        "      books_for_manual_search.append(book_name)\n",
        "      return np.nan\n",
        "\n",
        "    # Get the genres (categories) of the book\n",
        "    genres = book['volumeInfo'].get('categories', [])\n",
        "    for trys in range(1, 4):\n",
        "      try:\n",
        "        book = data['items'][trys]\n",
        "        genres = book['volumeInfo'].get('categories', [])\n",
        "        if len(genres) > 0:\n",
        "          break\n",
        "      except:\n",
        "        print(book_name)\n",
        "        books_for_manual_search.append(book_name)\n",
        "        return np.nan\n",
        "\n",
        "    if len(genres) == 0:\n",
        "      books_for_manual_search.append(book_name)\n",
        "      return np.nan\n",
        "\n",
        "    return np.array(genres[0])\n",
        "\n",
        "\n",
        "\n",
        "\n",
        "\n",
        "\n",
        "\n",
        "book_name = \"Hamlet\"  # Example book\n",
        "print(f\"The genres of '{book_name}' are {get_book_genre(book_name)}\")\n"
      ],
      "metadata": {
        "colab": {
          "base_uri": "https://localhost:8080/"
        },
        "id": "cKT5vDm8606n",
        "outputId": "b3560d7c-77fc-4683-c05b-de3ad12984f3"
      },
      "execution_count": null,
      "outputs": [
        {
          "output_type": "stream",
          "name": "stdout",
          "text": [
            "The genres of 'Hamlet' are Drama\n"
          ]
        }
      ]
    },
    {
      "cell_type": "code",
      "source": [
        "def genre_finder(row):\n",
        "    return get_book_genre(row['Booktitle'])"
      ],
      "metadata": {
        "id": "pQ5-5Vg4He5B"
      },
      "execution_count": null,
      "outputs": []
    },
    {
      "cell_type": "code",
      "source": [
        "fill = df[df['Genre'].isna()].apply(genre_finder, axis=1)"
      ],
      "metadata": {
        "colab": {
          "base_uri": "https://localhost:8080/"
        },
        "id": "2CZNxP1KJepV",
        "outputId": "555352ac-935a-45e1-f96c-db00f4955b74"
      },
      "execution_count": null,
      "outputs": [
        {
          "output_type": "stream",
          "name": "stdout",
          "text": [
            "The+Psychopathic+God+Adolf+Hitler\n",
            "The+Key\n"
          ]
        }
      ]
    },
    {
      "cell_type": "code",
      "source": [
        "books_for_manual_search"
      ],
      "metadata": {
        "id": "dmU4m3GWY0gH"
      },
      "execution_count": null,
      "outputs": []
    },
    {
      "cell_type": "code",
      "source": [
        "df[\"Genre\"].fillna(fill, inplace=True)"
      ],
      "metadata": {
        "id": "mjtuxW2wYlFN"
      },
      "execution_count": null,
      "outputs": []
    },
    {
      "cell_type": "code",
      "source": [
        "df.isna().sum()"
      ],
      "metadata": {
        "colab": {
          "base_uri": "https://localhost:8080/"
        },
        "id": "R8p67NtkMCQ5",
        "outputId": "13e9dbbf-fc13-4619-ad69-3665c6cb268e"
      },
      "execution_count": null,
      "outputs": [
        {
          "output_type": "execute_result",
          "data": {
            "text/plain": [
              "Id                   0\n",
              "Booktitle            0\n",
              "Author            2382\n",
              "Year              5610\n",
              "Genre              110\n",
              "Summary             63\n",
              "Tokens               0\n",
              "Summary_length       0\n",
              "dtype: int64"
            ]
          },
          "metadata": {},
          "execution_count": 51
        }
      ]
    },
    {
      "cell_type": "markdown",
      "source": [
        "#Mising values in  Author column\n",
        "\n",
        "**same solution as Genre column**"
      ],
      "metadata": {
        "id": "E539OXndZhhz"
      }
    },
    {
      "cell_type": "code",
      "source": [
        "import requests\n",
        "\n",
        "books_for_manual_search_author = []\n",
        "\n",
        "def get_book_author(book_name):\n",
        "    # Replace spaces with '+' for the URL\n",
        "    book_name = book_name.replace(' ', '+')\n",
        "\n",
        "    # Use the Google Books API to search for the book\n",
        "    url = f\"https://www.googleapis.com/books/v1/volumes?q={book_name}\"\n",
        "\n",
        "    # Send a request to the API\n",
        "    response = requests.get(url)\n",
        "\n",
        "    # Convert the response to JSON\n",
        "    data = response.json()\n",
        "\n",
        "    # Get the first book from the results\n",
        "    try:\n",
        "      book = data['items'][0]\n",
        "    except:\n",
        "      print(book_name)\n",
        "      books_for_manual_search_author.append(book_name)\n",
        "      return np.nan\n",
        "\n",
        "    # Get the genres (categories) of the book\n",
        "    genres = book['volumeInfo'].get('authors', [])\n",
        "    for trys in range(1, 4):\n",
        "      try:\n",
        "        book = data['items'][trys]\n",
        "        genres = book['volumeInfo'].get('authors', [])\n",
        "        if len(genres) > 0:\n",
        "          break\n",
        "      except:\n",
        "        print(book_name)\n",
        "        books_for_manual_search_author.append(book_name)\n",
        "        return np.nan\n",
        "\n",
        "    if len(genres) == 0:\n",
        "      books_for_manual_search_author.append(book_name)\n",
        "      return np.nan\n",
        "\n",
        "    return np.array(genres[0])\n",
        "\n",
        "\n",
        "\n",
        "\n",
        "\n",
        "\n",
        "\n",
        "book_name = \"Hamlet\"  # Example book\n",
        "print(f\"The genres of '{book_name}' are {get_book_author(book_name)}\")\n"
      ],
      "metadata": {
        "colab": {
          "base_uri": "https://localhost:8080/"
        },
        "id": "eOq1g3Yz-ty8",
        "outputId": "cd3dea42-b497-485f-c2dd-bff8ce974688"
      },
      "execution_count": 64,
      "outputs": [
        {
          "output_type": "stream",
          "name": "stdout",
          "text": [
            "The genres of 'Hamlet' are William Shakespeare\n"
          ]
        }
      ]
    },
    {
      "cell_type": "code",
      "source": [
        "def author_finder(row):\n",
        "    return get_book_author(row['Booktitle'])"
      ],
      "metadata": {
        "id": "dVjIe4gVAE8Z"
      },
      "execution_count": 66,
      "outputs": []
    },
    {
      "cell_type": "code",
      "source": [
        "author_missing_fill = df[df[\"Author\"].isna()].apply(author_finder, axis=1)"
      ],
      "metadata": {
        "colab": {
          "base_uri": "https://localhost:8080/"
        },
        "id": "SvbBiDsE_DAq",
        "outputId": "3325f8c5-9926-4b0c-c25a-a92a35246b1f"
      },
      "execution_count": 67,
      "outputs": [
        {
          "output_type": "stream",
          "name": "stdout",
          "text": [
            "Lacclrateur+atomique\n",
            "UmreLahaasil+Ka+Haasil\n"
          ]
        }
      ]
    },
    {
      "cell_type": "code",
      "source": [
        "df[\"Author\"].fillna(author_missing_fill, inplace=True)"
      ],
      "metadata": {
        "id": "kBc43j7ZBEAS"
      },
      "execution_count": null,
      "outputs": []
    },
    {
      "cell_type": "code",
      "source": [
        "df.to_csv('data.csv', index=False)"
      ],
      "metadata": {
        "id": "e4LhYUwgBLoy"
      },
      "execution_count": 71,
      "outputs": []
    },
    {
      "cell_type": "code",
      "source": [
        "df.iloc[4760, 2] = \"Lewis Trondheim\"\n",
        "df.iloc[16458, 2] = \"Haider Qureshi\""
      ],
      "metadata": {
        "id": "O4EX-bggVUXX"
      },
      "execution_count": 80,
      "outputs": []
    },
    {
      "cell_type": "markdown",
      "source": [
        "#Mising values in Summary column\n",
        "\n",
        "**Google api**\n",
        "\n",
        "We could use google api to get missing values in summary column but\n",
        "unlike Genre and Author there is no Summary section in the api result.\n",
        "however there is a description section in the api result but it has no summary and often talks about the author and genre of the book.\n",
        "\n",
        "**Wikipedia api**\n",
        "\n",
        "this is a efficient solution for this problem. wkipedia api provides a summary function that can be used to get the summary of a book.\n",
        "although finding a book title could be tricky. and there is a possibility that a book does not have a page on wikipedia.\n",
        "\n",
        "**using llm**\n",
        "\n",
        "this is the most accurate solution. we could use a light llm model (like PHI3) to get the summary of a book.\n",
        "we could use the model knowledge base or build RAG system (with langchain or lamaindex) to get the summary of a book. the problem with this solution is that it is not efficient. because running an llm needs a lot of computing power\n",
        "\n",
        "**manual**\n",
        "\n",
        "at last we could manually get the summary of a book."
      ],
      "metadata": {
        "id": "aUUm_ohgZ_JR"
      }
    },
    {
      "cell_type": "code",
      "source": [
        "#!pip install wikipedia\n",
        "import wikipedia\n",
        "\n",
        "#books_for_manual_search_summary = []\n",
        "\n",
        "def wikipedia_summary(search_term):\n",
        "    #book_name_on_wiki = wikipedia.search(search_term)[0]\n",
        "    search_term_cleaned = search_term.replace(\" \", \"_\")\n",
        "    try:\n",
        "        res = wikipedia.summary(search_term_cleaned)\n",
        "    except wikipedia.exceptions.PageError:\n",
        "      #books_for_manual_search_summary.append(search_term)\n",
        "      res = np.nan\n",
        "    except wikipedia.exceptions.DisambiguationError:\n",
        "      #books_for_manual_search_summary.append(search_term)\n",
        "      res = np.nan\n",
        "    except wikipedia.exceptions.DisambiguationError as e:\n",
        "        res = wikipedia.summary(e.options[0])\n",
        "\n",
        "    return res\n",
        "\n",
        "# Use the function like this:\n",
        "summary = wikipedia_summary('bookofmicah')\n",
        "print(summary)\n"
      ],
      "metadata": {
        "id": "KLClUNOGZEAU",
        "outputId": "79c847d0-781a-4934-9cba-e6bd789a06a4",
        "colab": {
          "base_uri": "https://localhost:8080/"
        }
      },
      "execution_count": null,
      "outputs": [
        {
          "output_type": "stream",
          "name": "stdout",
          "text": [
            "The Book of Micah is the sixth of the twelve minor prophets in the Hebrew Bible. Ostensibly, it records the sayings of Micah, whose name is Mikayahu (Hebrew: מִיכָיָ֫הוּ), meaning \"Who is like Yahweh?\", an 8th-century BCE prophet from the village of Moresheth in Judah (Hebrew name from the opening verse: מיכה המרשתי).\n",
            "The book has three major divisions, chapters 1–2, 3–5 and 6–7, each introduced by the word \"Hear,\" with a pattern of alternating announcements of doom and expressions of hope within each division. Micah reproaches unjust leaders, defends the rights of the poor against the rich and powerful; while looking forward to a world at peace centered on Zion under the leadership of a new Davidic monarch.\n",
            "While the book is relatively short, it includes lament (1.8–16; 7.8–10), theophany (1.3–4), hymnic prayer of petition and confidence (7.14–20), and the \"covenant lawsuit\" (6.1–8), a distinct genre in which Yahweh (God) sues Israel for breach of contract of the Mosaic covenant.\n"
          ]
        }
      ]
    },
    {
      "cell_type": "code",
      "source": [
        "fill_summary = df[df[\"Summary\"].isna()].apply(lambda x: wikipedia_summary(x[\"Booktitle\"]), axis=1)"
      ],
      "metadata": {
        "id": "yHhtCUNlm8Ka",
        "outputId": "8b41fc7a-2a27-40ab-9860-635a2e7c757e",
        "colab": {
          "base_uri": "https://localhost:8080/"
        }
      },
      "execution_count": null,
      "outputs": [
        {
          "output_type": "stream",
          "name": "stderr",
          "text": [
            "/usr/local/lib/python3.10/dist-packages/wikipedia/wikipedia.py:389: GuessedAtParserWarning: No parser was explicitly specified, so I'm using the best available HTML parser for this system (\"lxml\"). This usually isn't a problem, but if you run this code on another system, or in a different virtual environment, it may use a different parser and behave differently.\n",
            "\n",
            "The code that caused this warning is on line 389 of the file /usr/local/lib/python3.10/dist-packages/wikipedia/wikipedia.py. To get rid of this warning, pass the additional argument 'features=\"lxml\"' to the BeautifulSoup constructor.\n",
            "\n",
            "  lis = BeautifulSoup(html).find_all('li')\n"
          ]
        }
      ]
    },
    {
      "cell_type": "code",
      "source": [
        "df[\"Summary\"].fillna(fill_summary, inplace=True)"
      ],
      "metadata": {
        "id": "0eNOK6DRovkJ"
      },
      "execution_count": null,
      "outputs": []
    },
    {
      "cell_type": "code",
      "source": [
        "len(books_for_manual_search_summary)"
      ],
      "metadata": {
        "id": "Anh4LdkMo1Fk",
        "outputId": "ee99bf00-30a5-4a11-c4ec-745bca80eb12",
        "colab": {
          "base_uri": "https://localhost:8080/"
        }
      },
      "execution_count": null,
      "outputs": [
        {
          "output_type": "execute_result",
          "data": {
            "text/plain": [
              "32"
            ]
          },
          "metadata": {},
          "execution_count": 22
        }
      ]
    },
    {
      "cell_type": "code",
      "source": [
        "for book in books_for_manual_search_summary:\n",
        "  res = wikipedia_summary(book.replace(\" \", \"_\"))\n",
        "  if res == np.nan:\n",
        "    print(book)\n",
        "  else:\n",
        "    df.loc[df[\"Booktitle\"] == book, \"Summary\"] = res"
      ],
      "metadata": {
        "id": "wITbwvbdqI5i"
      },
      "execution_count": null,
      "outputs": []
    },
    {
      "cell_type": "code",
      "source": [
        "df.isna().sum()"
      ],
      "metadata": {
        "id": "eiY-KO2irViC",
        "outputId": "e1d53d8e-1c1b-45de-f819-d0842ab2e38d",
        "colab": {
          "base_uri": "https://localhost:8080/"
        }
      },
      "execution_count": null,
      "outputs": [
        {
          "output_type": "execute_result",
          "data": {
            "text/plain": [
              "Id                   0\n",
              "Booktitle            0\n",
              "Author            2382\n",
              "Year              5610\n",
              "Genre             3718\n",
              "Summary              4\n",
              "Tokens               0\n",
              "Summary_length       0\n",
              "dtype: int64"
            ]
          },
          "metadata": {},
          "execution_count": 26
        }
      ]
    },
    {
      "cell_type": "code",
      "source": [
        "def filler(row):\n",
        "  if row[\"Author\"] != np.nan:\n",
        "    try:\n",
        "      res = wikipedia_summary(row[\"Book_title\"] + \" \" + row[\"Author\"])\n",
        "    except:\n",
        "      res = wikipedia_summary(row[\"Book_title\"])\n",
        "  else:\n",
        "    res = wikipedia_summary(row[\"Book_title\"])\n"
      ],
      "metadata": {
        "id": "4Ngo51Ado6sd"
      },
      "execution_count": null,
      "outputs": []
    },
    {
      "cell_type": "code",
      "source": [
        "df[df[\"Summary\"].isna()]"
      ],
      "metadata": {
        "id": "pmCJWUxWrs0y",
        "outputId": "1eec062c-e934-4886-eae0-a3a9eb3ac96a",
        "colab": {
          "base_uri": "https://localhost:8080/",
          "height": 244
        }
      },
      "execution_count": null,
      "outputs": [
        {
          "output_type": "execute_result",
          "data": {
            "text/plain": [
              "             Id     Booktitle            Author    Year  \\\n",
              "4045    2832333  Deathstalker       Simon Green     NaN   \n",
              "10244  12124549   Angel Light    Andrew Greeley  199512   \n",
              "13810  22129357  Generation A  Douglas Coupland     NaN   \n",
              "15958  31219389         Flame               NaN     NaN   \n",
              "\n",
              "                                                   Genre Summary  \\\n",
              "4045                Science Fiction  Speculative fiction     NaN   \n",
              "10244   Speculative fiction  Fantasy  Fiction  Romanc...     NaN   \n",
              "13810                                              Novel     NaN   \n",
              "15958                                                NaN     NaN   \n",
              "\n",
              "                                                  Tokens  Summary_length  \n",
              "4045                                            [62, 60]               2  \n",
              "10244                       [Plot, outline, description]               3  \n",
              "13810  [Couplands, website, has, a, synopsis, of, the...               8  \n",
              "15958                                       [Characters]               1  "
            ],
            "text/html": [
              "\n",
              "  <div id=\"df-c46a71d2-afa8-4aac-aa99-187f2924be9c\" class=\"colab-df-container\">\n",
              "    <div>\n",
              "<style scoped>\n",
              "    .dataframe tbody tr th:only-of-type {\n",
              "        vertical-align: middle;\n",
              "    }\n",
              "\n",
              "    .dataframe tbody tr th {\n",
              "        vertical-align: top;\n",
              "    }\n",
              "\n",
              "    .dataframe thead th {\n",
              "        text-align: right;\n",
              "    }\n",
              "</style>\n",
              "<table border=\"1\" class=\"dataframe\">\n",
              "  <thead>\n",
              "    <tr style=\"text-align: right;\">\n",
              "      <th></th>\n",
              "      <th>Id</th>\n",
              "      <th>Booktitle</th>\n",
              "      <th>Author</th>\n",
              "      <th>Year</th>\n",
              "      <th>Genre</th>\n",
              "      <th>Summary</th>\n",
              "      <th>Tokens</th>\n",
              "      <th>Summary_length</th>\n",
              "    </tr>\n",
              "  </thead>\n",
              "  <tbody>\n",
              "    <tr>\n",
              "      <th>4045</th>\n",
              "      <td>2832333</td>\n",
              "      <td>Deathstalker</td>\n",
              "      <td>Simon Green</td>\n",
              "      <td>NaN</td>\n",
              "      <td>Science Fiction  Speculative fiction</td>\n",
              "      <td>NaN</td>\n",
              "      <td>[62, 60]</td>\n",
              "      <td>2</td>\n",
              "    </tr>\n",
              "    <tr>\n",
              "      <th>10244</th>\n",
              "      <td>12124549</td>\n",
              "      <td>Angel Light</td>\n",
              "      <td>Andrew Greeley</td>\n",
              "      <td>199512</td>\n",
              "      <td>Speculative fiction  Fantasy  Fiction  Romanc...</td>\n",
              "      <td>NaN</td>\n",
              "      <td>[Plot, outline, description]</td>\n",
              "      <td>3</td>\n",
              "    </tr>\n",
              "    <tr>\n",
              "      <th>13810</th>\n",
              "      <td>22129357</td>\n",
              "      <td>Generation A</td>\n",
              "      <td>Douglas Coupland</td>\n",
              "      <td>NaN</td>\n",
              "      <td>Novel</td>\n",
              "      <td>NaN</td>\n",
              "      <td>[Couplands, website, has, a, synopsis, of, the...</td>\n",
              "      <td>8</td>\n",
              "    </tr>\n",
              "    <tr>\n",
              "      <th>15958</th>\n",
              "      <td>31219389</td>\n",
              "      <td>Flame</td>\n",
              "      <td>NaN</td>\n",
              "      <td>NaN</td>\n",
              "      <td>NaN</td>\n",
              "      <td>NaN</td>\n",
              "      <td>[Characters]</td>\n",
              "      <td>1</td>\n",
              "    </tr>\n",
              "  </tbody>\n",
              "</table>\n",
              "</div>\n",
              "    <div class=\"colab-df-buttons\">\n",
              "\n",
              "  <div class=\"colab-df-container\">\n",
              "    <button class=\"colab-df-convert\" onclick=\"convertToInteractive('df-c46a71d2-afa8-4aac-aa99-187f2924be9c')\"\n",
              "            title=\"Convert this dataframe to an interactive table.\"\n",
              "            style=\"display:none;\">\n",
              "\n",
              "  <svg xmlns=\"http://www.w3.org/2000/svg\" height=\"24px\" viewBox=\"0 -960 960 960\">\n",
              "    <path d=\"M120-120v-720h720v720H120Zm60-500h600v-160H180v160Zm220 220h160v-160H400v160Zm0 220h160v-160H400v160ZM180-400h160v-160H180v160Zm440 0h160v-160H620v160ZM180-180h160v-160H180v160Zm440 0h160v-160H620v160Z\"/>\n",
              "  </svg>\n",
              "    </button>\n",
              "\n",
              "  <style>\n",
              "    .colab-df-container {\n",
              "      display:flex;\n",
              "      gap: 12px;\n",
              "    }\n",
              "\n",
              "    .colab-df-convert {\n",
              "      background-color: #E8F0FE;\n",
              "      border: none;\n",
              "      border-radius: 50%;\n",
              "      cursor: pointer;\n",
              "      display: none;\n",
              "      fill: #1967D2;\n",
              "      height: 32px;\n",
              "      padding: 0 0 0 0;\n",
              "      width: 32px;\n",
              "    }\n",
              "\n",
              "    .colab-df-convert:hover {\n",
              "      background-color: #E2EBFA;\n",
              "      box-shadow: 0px 1px 2px rgba(60, 64, 67, 0.3), 0px 1px 3px 1px rgba(60, 64, 67, 0.15);\n",
              "      fill: #174EA6;\n",
              "    }\n",
              "\n",
              "    .colab-df-buttons div {\n",
              "      margin-bottom: 4px;\n",
              "    }\n",
              "\n",
              "    [theme=dark] .colab-df-convert {\n",
              "      background-color: #3B4455;\n",
              "      fill: #D2E3FC;\n",
              "    }\n",
              "\n",
              "    [theme=dark] .colab-df-convert:hover {\n",
              "      background-color: #434B5C;\n",
              "      box-shadow: 0px 1px 3px 1px rgba(0, 0, 0, 0.15);\n",
              "      filter: drop-shadow(0px 1px 2px rgba(0, 0, 0, 0.3));\n",
              "      fill: #FFFFFF;\n",
              "    }\n",
              "  </style>\n",
              "\n",
              "    <script>\n",
              "      const buttonEl =\n",
              "        document.querySelector('#df-c46a71d2-afa8-4aac-aa99-187f2924be9c button.colab-df-convert');\n",
              "      buttonEl.style.display =\n",
              "        google.colab.kernel.accessAllowed ? 'block' : 'none';\n",
              "\n",
              "      async function convertToInteractive(key) {\n",
              "        const element = document.querySelector('#df-c46a71d2-afa8-4aac-aa99-187f2924be9c');\n",
              "        const dataTable =\n",
              "          await google.colab.kernel.invokeFunction('convertToInteractive',\n",
              "                                                    [key], {});\n",
              "        if (!dataTable) return;\n",
              "\n",
              "        const docLinkHtml = 'Like what you see? Visit the ' +\n",
              "          '<a target=\"_blank\" href=https://colab.research.google.com/notebooks/data_table.ipynb>data table notebook</a>'\n",
              "          + ' to learn more about interactive tables.';\n",
              "        element.innerHTML = '';\n",
              "        dataTable['output_type'] = 'display_data';\n",
              "        await google.colab.output.renderOutput(dataTable, element);\n",
              "        const docLink = document.createElement('div');\n",
              "        docLink.innerHTML = docLinkHtml;\n",
              "        element.appendChild(docLink);\n",
              "      }\n",
              "    </script>\n",
              "  </div>\n",
              "\n",
              "\n",
              "<div id=\"df-9f220523-b38e-4b6c-b43f-d129c25e552d\">\n",
              "  <button class=\"colab-df-quickchart\" onclick=\"quickchart('df-9f220523-b38e-4b6c-b43f-d129c25e552d')\"\n",
              "            title=\"Suggest charts\"\n",
              "            style=\"display:none;\">\n",
              "\n",
              "<svg xmlns=\"http://www.w3.org/2000/svg\" height=\"24px\"viewBox=\"0 0 24 24\"\n",
              "     width=\"24px\">\n",
              "    <g>\n",
              "        <path d=\"M19 3H5c-1.1 0-2 .9-2 2v14c0 1.1.9 2 2 2h14c1.1 0 2-.9 2-2V5c0-1.1-.9-2-2-2zM9 17H7v-7h2v7zm4 0h-2V7h2v10zm4 0h-2v-4h2v4z\"/>\n",
              "    </g>\n",
              "</svg>\n",
              "  </button>\n",
              "\n",
              "<style>\n",
              "  .colab-df-quickchart {\n",
              "      --bg-color: #E8F0FE;\n",
              "      --fill-color: #1967D2;\n",
              "      --hover-bg-color: #E2EBFA;\n",
              "      --hover-fill-color: #174EA6;\n",
              "      --disabled-fill-color: #AAA;\n",
              "      --disabled-bg-color: #DDD;\n",
              "  }\n",
              "\n",
              "  [theme=dark] .colab-df-quickchart {\n",
              "      --bg-color: #3B4455;\n",
              "      --fill-color: #D2E3FC;\n",
              "      --hover-bg-color: #434B5C;\n",
              "      --hover-fill-color: #FFFFFF;\n",
              "      --disabled-bg-color: #3B4455;\n",
              "      --disabled-fill-color: #666;\n",
              "  }\n",
              "\n",
              "  .colab-df-quickchart {\n",
              "    background-color: var(--bg-color);\n",
              "    border: none;\n",
              "    border-radius: 50%;\n",
              "    cursor: pointer;\n",
              "    display: none;\n",
              "    fill: var(--fill-color);\n",
              "    height: 32px;\n",
              "    padding: 0;\n",
              "    width: 32px;\n",
              "  }\n",
              "\n",
              "  .colab-df-quickchart:hover {\n",
              "    background-color: var(--hover-bg-color);\n",
              "    box-shadow: 0 1px 2px rgba(60, 64, 67, 0.3), 0 1px 3px 1px rgba(60, 64, 67, 0.15);\n",
              "    fill: var(--button-hover-fill-color);\n",
              "  }\n",
              "\n",
              "  .colab-df-quickchart-complete:disabled,\n",
              "  .colab-df-quickchart-complete:disabled:hover {\n",
              "    background-color: var(--disabled-bg-color);\n",
              "    fill: var(--disabled-fill-color);\n",
              "    box-shadow: none;\n",
              "  }\n",
              "\n",
              "  .colab-df-spinner {\n",
              "    border: 2px solid var(--fill-color);\n",
              "    border-color: transparent;\n",
              "    border-bottom-color: var(--fill-color);\n",
              "    animation:\n",
              "      spin 1s steps(1) infinite;\n",
              "  }\n",
              "\n",
              "  @keyframes spin {\n",
              "    0% {\n",
              "      border-color: transparent;\n",
              "      border-bottom-color: var(--fill-color);\n",
              "      border-left-color: var(--fill-color);\n",
              "    }\n",
              "    20% {\n",
              "      border-color: transparent;\n",
              "      border-left-color: var(--fill-color);\n",
              "      border-top-color: var(--fill-color);\n",
              "    }\n",
              "    30% {\n",
              "      border-color: transparent;\n",
              "      border-left-color: var(--fill-color);\n",
              "      border-top-color: var(--fill-color);\n",
              "      border-right-color: var(--fill-color);\n",
              "    }\n",
              "    40% {\n",
              "      border-color: transparent;\n",
              "      border-right-color: var(--fill-color);\n",
              "      border-top-color: var(--fill-color);\n",
              "    }\n",
              "    60% {\n",
              "      border-color: transparent;\n",
              "      border-right-color: var(--fill-color);\n",
              "    }\n",
              "    80% {\n",
              "      border-color: transparent;\n",
              "      border-right-color: var(--fill-color);\n",
              "      border-bottom-color: var(--fill-color);\n",
              "    }\n",
              "    90% {\n",
              "      border-color: transparent;\n",
              "      border-bottom-color: var(--fill-color);\n",
              "    }\n",
              "  }\n",
              "</style>\n",
              "\n",
              "  <script>\n",
              "    async function quickchart(key) {\n",
              "      const quickchartButtonEl =\n",
              "        document.querySelector('#' + key + ' button');\n",
              "      quickchartButtonEl.disabled = true;  // To prevent multiple clicks.\n",
              "      quickchartButtonEl.classList.add('colab-df-spinner');\n",
              "      try {\n",
              "        const charts = await google.colab.kernel.invokeFunction(\n",
              "            'suggestCharts', [key], {});\n",
              "      } catch (error) {\n",
              "        console.error('Error during call to suggestCharts:', error);\n",
              "      }\n",
              "      quickchartButtonEl.classList.remove('colab-df-spinner');\n",
              "      quickchartButtonEl.classList.add('colab-df-quickchart-complete');\n",
              "    }\n",
              "    (() => {\n",
              "      let quickchartButtonEl =\n",
              "        document.querySelector('#df-9f220523-b38e-4b6c-b43f-d129c25e552d button');\n",
              "      quickchartButtonEl.style.display =\n",
              "        google.colab.kernel.accessAllowed ? 'block' : 'none';\n",
              "    })();\n",
              "  </script>\n",
              "</div>\n",
              "    </div>\n",
              "  </div>\n"
            ],
            "application/vnd.google.colaboratory.intrinsic+json": {
              "type": "dataframe",
              "repr_error": "0"
            }
          },
          "metadata": {},
          "execution_count": 27
        }
      ]
    },
    {
      "cell_type": "code",
      "source": [
        "#manually fill the missing summary\n",
        "df.iloc[4045, 5] = \"Owen Deathstalker, last of the infamous warrior Clan, always considered himself more of a writer than a fighter, preferring his history books to making any actual history with a sword. But books won’t protect him from Her Imperial Majesty Lionstone XIV, who just Outlawed and condemned Owen to death, without any explanation, reason, or warning. No wonder she’s called the Iron Bitch.\"\n",
        "\n",
        "df.iloc[10244, 5] = \"I do not want ten million dollars. I do not want to visit Ireland. I do not want to end a Tobin family feud. And, above all, I do not want to court my eighth cousin, once removed.Even as he says the words, Toby Tobin, Irish-American computer hacker, knows it's useless to resist. His late great-uncle's will must be obeyed, and his family is determined to make him respectable by his twenty-fifth birthday. Encouraged by a photo of his cousin, Sara Anne Elizabeth Tobin, with her gorgeous black hair, blue eyes, and pale skin, Toby checks his computer for travel arrangements to Ireland. He finds himself chatting with an unusual travel agent, Raphaella, a very modern angel, who's been surfing the net for someone to look after. Raphaella gives him a new passport and first-class plane tickets out of O'Hare, and the encouragement and good humor he'll need on his quest for a living grail--the beautiful, mysterious, troubled, young Sara Tobin. He must marry Sara within the month (and solve an ancient mystery and elude a threatening thug) in order to claim his inheritance. Angel Light is based on the Book of Tobis in the Old Testament, one of the sweetest love stories ever told.\"\n",
        "\n",
        "\n",
        "df.iloc[13810, 5] = \"Generation A is set in the near future in a world where bees are extinct, until five unconnected people all around the world— in the United States, Canada, France, New Zealand, and Sri Lanka—are all stung. Their shared experience unites them in ways they never could have imagined.\"\n",
        "df.iloc[15958, 5] = \"Two days after Levi and Charlotte spread her ashes in Notley Fern Gorge in northern Tasmania, Levi and Charlotte’s mother, Edith, returns from the dead, sprouting ferns and moss from her body. Her second life lasts four days: she spends the first two on the family’s farmland before walking to Levi and Charlotte’s father’s house and finally bursting into flames in his front yard. This kind of reincarnation happens to some women in the family after cremation. In the following weeks, Charlotte’s episodes of emotional distress disturb Levi. He resolves to build her a coffin to reassure her that she can avoid the trauma of reincarnation by being buried whole.\"\n"
      ],
      "metadata": {
        "id": "Px2Fx8gDr4m8"
      },
      "execution_count": null,
      "outputs": []
    },
    {
      "cell_type": "code",
      "source": [
        "df.isna().sum()"
      ],
      "metadata": {
        "colab": {
          "base_uri": "https://localhost:8080/"
        },
        "id": "hn5T94MAXluB",
        "outputId": "f8eeabf6-ed2f-4ee1-8863-91288049502d"
      },
      "execution_count": 87,
      "outputs": [
        {
          "output_type": "execute_result",
          "data": {
            "text/plain": [
              "Id             0\n",
              "Booktitle      0\n",
              "Author         0\n",
              "Summary        0\n",
              "Genre        110\n",
              "dtype: int64"
            ]
          },
          "metadata": {},
          "execution_count": 87
        }
      ]
    },
    {
      "cell_type": "code",
      "source": [
        "#we could use distilbert model too to get the genre of the missing genres\n",
        "#but we need to train the model on the text data so i think we need to use the summarizer model first then we can get the genre of the missing genres so we will do that on the NLP notebook"
      ],
      "metadata": {
        "id": "qwy2q6OH_Khc"
      },
      "execution_count": null,
      "outputs": []
    },
    {
      "cell_type": "code",
      "source": [
        "#now we only need Genre and Summary columns so we save them as a .csv file\n",
        "df.to_csv('Booksummaries.csv', index=False)"
      ],
      "metadata": {
        "id": "H9RJchRc_5UG"
      },
      "execution_count": null,
      "outputs": []
    },
    {
      "cell_type": "code",
      "source": [
        "#we upload the .csv file to the google drive\n",
        "!cp Booksummaries.csv /content/drive/MyDrive"
      ],
      "metadata": {
        "id": "RrEeFjVNPEyy"
      },
      "execution_count": null,
      "outputs": []
    },
    {
      "cell_type": "code",
      "source": [
        "from google.colab import drive\n",
        "drive.mount('/content/drive')"
      ],
      "metadata": {
        "id": "Mv5izLSFoQvD",
        "outputId": "0a6f3641-1b8f-4868-eb5d-14d90421846e",
        "colab": {
          "base_uri": "https://localhost:8080/"
        }
      },
      "execution_count": null,
      "outputs": [
        {
          "output_type": "stream",
          "name": "stdout",
          "text": [
            "Mounted at /content/drive\n"
          ]
        }
      ]
    }
  ]
}