{
  "nbformat": 4,
  "nbformat_minor": 0,
  "metadata": {
    "colab": {
      "provenance": [],
      "authorship_tag": "ABX9TyOnHQ0FE+9bj0+zT8Tmj40Y",
      "include_colab_link": true
    },
    "kernelspec": {
      "name": "python3",
      "display_name": "Python 3"
    },
    "language_info": {
      "name": "python"
    }
  },
  "cells": [
    {
      "cell_type": "markdown",
      "metadata": {
        "id": "view-in-github",
        "colab_type": "text"
      },
      "source": [
        "<a href=\"https://colab.research.google.com/github/Arvinzaheri/data_colab_task/blob/main/Data_analys.ipynb\" target=\"_parent\"><img src=\"https://colab.research.google.com/assets/colab-badge.svg\" alt=\"Open In Colab\"/></a>"
      ]
    },
    {
      "cell_type": "code",
      "source": [
        "#firt of all we load the data frpm the google drive\n",
        "from google.colab import drive\n",
        "drive.mount('/content/drive')\n"
      ],
      "metadata": {
        "colab": {
          "base_uri": "https://localhost:8080/"
        },
        "id": "wOpQbzCiYBpa",
        "outputId": "97196faf-1d63-4840-ad59-ea291425969d"
      },
      "execution_count": null,
      "outputs": [
        {
          "output_type": "stream",
          "name": "stdout",
          "text": [
            "Mounted at /content/drive\n"
          ]
        }
      ]
    },
    {
      "cell_type": "code",
      "source": [
        "path = \"/content/drive/MyDrive/Colab Notebooks/booksummaries.txt\""
      ],
      "metadata": {
        "id": "Qn3tVo8RYcyv"
      },
      "execution_count": null,
      "outputs": []
    },
    {
      "cell_type": "markdown",
      "source": [
        "# Data Analysis and Cleaning\n",
        "\n",
        "## Problem Identification\n",
        "Upon initial inspection of the dataset, we identified several issues that could hinder our data analysis process. The data was in a text file with inconsistent separators, sometimes a space, sometimes a tab, and other times different characters. Additionally, the dataset did not have column names, making it difficult to understand the context of the data. There were also various symbols and additional characters like `:::::` instead of a single `:`.\n",
        "\n",
        "## Solution\n",
        "To address these issues, we decided to use Python's `pandas` library to convert the text file into a DataFrame, a two-dimensional tabular data structure with labeled axes (rows and columns). We also used Python's `re` (regular expression) module to clean the data.\n",
        "\n",
        "### Data Loading\n",
        "We read the file line by line, splitting each line into columns based on the separators (space or tab). This gave us a list of columns for each line, which we appended to our data list.\n",
        "\n",
        "### Data Cleaning\n",
        "We created a `clean_data` function that uses regular expressions to remove unwanted characters from the text. Specifically, we wrote a regex pattern to match any character that is not a letter, a number, or a space, and replaced these characters with nothing (effectively removing them).\n",
        "\n",
        "```python\n",
        "def clean_data(text):\n",
        "    # Keep only alphanumeric characters\n",
        "    text = re.sub(r'[^a-zA-Z0-9\\s]', '', text)\n",
        "    return text\n"
      ],
      "metadata": {
        "id": "U62Ia1S0ZV0G"
      }
    },
    {
      "cell_type": "markdown",
      "source": [
        "### Separator Inconsistency\n",
        "One of the challenges we faced was the inconsistency in the separators used in the data. In some instances, a space was used, in others, a tab, and sometimes different characters altogether. This inconsistency made it difficult to correctly split the data into separate fields.\n",
        "\n",
        "### Handling Separator Inconsistency\n",
        "To handle this, we used Python's `re` (regular expression) module, which provides flexible pattern-matching capabilities. We used the `re.split()` function to split each line into columns. This function allows us to specify multiple separators by placing them inside a character class in the regex pattern. In our case, we used `\\t|  `, which matches either a tab (`\\t`) or two spaces (`  `).\n",
        "\n",
        "Here's the relevant part of the code:\n",
        "\n",
        "```python\n",
        "# Split the line into columns\n",
        "columns = re.split(r'\\t|  ', line)\n",
        "\n"
      ],
      "metadata": {
        "id": "Xz0Uj7gXa3zF"
      }
    },
    {
      "cell_type": "code",
      "source": [
        "import pandas as pd\n",
        "import re\n",
        "\n",
        "# Define a function to clean the data\n",
        "def clean_data(text):\n",
        "    # Keep only alphanumeric characters\n",
        "    text = re.sub(r'[^a-zA-Z0-9\\s]', '', text)\n",
        "    return text\n",
        "\n",
        "\n",
        "# Read the file\n",
        "with open(path, 'r') as file:\n",
        "    lines = file.readlines()\n",
        "\n",
        "# Split the lines into columns and clean the data\n",
        "data = []\n",
        "for line in lines:\n",
        "    # Split the line into columns\n",
        "    columns = re.split(r'\\t|  ', line)\n",
        "    # Clean the data\n",
        "    columns = [clean_data(column) for column in columns]\n",
        "    data.append(columns)\n",
        "\n",
        "# Convert the data into a DataFrame\n",
        "df = pd.DataFrame(data)\n",
        "\n",
        "# If you want to add column names\n",
        "df.columns = ['Id', 'Column2', 'Booktitle', 'Author', 'Year', 'Genre', \"Summary\", 'Summary_Usless']\n"
      ],
      "metadata": {
        "id": "mFl50rF-a4Ua"
      },
      "execution_count": null,
      "outputs": []
    },
    {
      "cell_type": "code",
      "source": [
        "df.head()"
      ],
      "metadata": {
        "colab": {
          "base_uri": "https://localhost:8080/",
          "height": 293
        },
        "id": "ZCWFnlLccTCb",
        "outputId": "06d33ea1-1184-4bc7-adb1-88f9f6358bf8"
      },
      "execution_count": null,
      "outputs": [
        {
          "output_type": "execute_result",
          "data": {
            "text/plain": [
              "     Id Column2                                  Booktitle           Author  \\\n",
              "0   620   m0hhy                                Animal Farm    George Orwell   \n",
              "1   843   m0k36                         A Clockwork Orange  Anthony Burgess   \n",
              "2   986   m0ldx                                 The Plague     Albert Camus   \n",
              "3  1756   m0sww  An Enquiry Concerning Human Understanding       David Hume   \n",
              "4  2080   m0wkt                       A Fire Upon the Deep     Vernor Vinge   \n",
              "\n",
              "       Year                                              Genre  \\\n",
              "0  19450817  m016lj8 Roman u00e0 clef m06nbt Satire m0dwly ...   \n",
              "1      1962  m06n90 Science Fiction m0l67h Novella m014dfn ...   \n",
              "2      1947  m02m4t Existentialism m02xlf Fiction m0pym5 Ab...   \n",
              "3                                                                \n",
              "4            m03lrw Hard science fiction m06n90 Science Fic...   \n",
              "\n",
              "                                             Summary Summary_Usless  \n",
              "0   Old Major the old boar on the Manor Farm call...           None  \n",
              "1   Alex a teenager living in nearfuture England ...           None  \n",
              "2   The text of The Plague is divided into five p...           None  \n",
              "3   The argument of the Enquiry proceeds by a ser...           None  \n",
              "4   The novel posits that space around the Milky ...           None  "
            ],
            "text/html": [
              "\n",
              "  <div id=\"df-312476fe-ceb2-4620-8a00-9f932c30bdd5\" class=\"colab-df-container\">\n",
              "    <div>\n",
              "<style scoped>\n",
              "    .dataframe tbody tr th:only-of-type {\n",
              "        vertical-align: middle;\n",
              "    }\n",
              "\n",
              "    .dataframe tbody tr th {\n",
              "        vertical-align: top;\n",
              "    }\n",
              "\n",
              "    .dataframe thead th {\n",
              "        text-align: right;\n",
              "    }\n",
              "</style>\n",
              "<table border=\"1\" class=\"dataframe\">\n",
              "  <thead>\n",
              "    <tr style=\"text-align: right;\">\n",
              "      <th></th>\n",
              "      <th>Id</th>\n",
              "      <th>Column2</th>\n",
              "      <th>Booktitle</th>\n",
              "      <th>Author</th>\n",
              "      <th>Year</th>\n",
              "      <th>Genre</th>\n",
              "      <th>Summary</th>\n",
              "      <th>Summary_Usless</th>\n",
              "    </tr>\n",
              "  </thead>\n",
              "  <tbody>\n",
              "    <tr>\n",
              "      <th>0</th>\n",
              "      <td>620</td>\n",
              "      <td>m0hhy</td>\n",
              "      <td>Animal Farm</td>\n",
              "      <td>George Orwell</td>\n",
              "      <td>19450817</td>\n",
              "      <td>m016lj8 Roman u00e0 clef m06nbt Satire m0dwly ...</td>\n",
              "      <td>Old Major the old boar on the Manor Farm call...</td>\n",
              "      <td>None</td>\n",
              "    </tr>\n",
              "    <tr>\n",
              "      <th>1</th>\n",
              "      <td>843</td>\n",
              "      <td>m0k36</td>\n",
              "      <td>A Clockwork Orange</td>\n",
              "      <td>Anthony Burgess</td>\n",
              "      <td>1962</td>\n",
              "      <td>m06n90 Science Fiction m0l67h Novella m014dfn ...</td>\n",
              "      <td>Alex a teenager living in nearfuture England ...</td>\n",
              "      <td>None</td>\n",
              "    </tr>\n",
              "    <tr>\n",
              "      <th>2</th>\n",
              "      <td>986</td>\n",
              "      <td>m0ldx</td>\n",
              "      <td>The Plague</td>\n",
              "      <td>Albert Camus</td>\n",
              "      <td>1947</td>\n",
              "      <td>m02m4t Existentialism m02xlf Fiction m0pym5 Ab...</td>\n",
              "      <td>The text of The Plague is divided into five p...</td>\n",
              "      <td>None</td>\n",
              "    </tr>\n",
              "    <tr>\n",
              "      <th>3</th>\n",
              "      <td>1756</td>\n",
              "      <td>m0sww</td>\n",
              "      <td>An Enquiry Concerning Human Understanding</td>\n",
              "      <td>David Hume</td>\n",
              "      <td></td>\n",
              "      <td></td>\n",
              "      <td>The argument of the Enquiry proceeds by a ser...</td>\n",
              "      <td>None</td>\n",
              "    </tr>\n",
              "    <tr>\n",
              "      <th>4</th>\n",
              "      <td>2080</td>\n",
              "      <td>m0wkt</td>\n",
              "      <td>A Fire Upon the Deep</td>\n",
              "      <td>Vernor Vinge</td>\n",
              "      <td></td>\n",
              "      <td>m03lrw Hard science fiction m06n90 Science Fic...</td>\n",
              "      <td>The novel posits that space around the Milky ...</td>\n",
              "      <td>None</td>\n",
              "    </tr>\n",
              "  </tbody>\n",
              "</table>\n",
              "</div>\n",
              "    <div class=\"colab-df-buttons\">\n",
              "\n",
              "  <div class=\"colab-df-container\">\n",
              "    <button class=\"colab-df-convert\" onclick=\"convertToInteractive('df-312476fe-ceb2-4620-8a00-9f932c30bdd5')\"\n",
              "            title=\"Convert this dataframe to an interactive table.\"\n",
              "            style=\"display:none;\">\n",
              "\n",
              "  <svg xmlns=\"http://www.w3.org/2000/svg\" height=\"24px\" viewBox=\"0 -960 960 960\">\n",
              "    <path d=\"M120-120v-720h720v720H120Zm60-500h600v-160H180v160Zm220 220h160v-160H400v160Zm0 220h160v-160H400v160ZM180-400h160v-160H180v160Zm440 0h160v-160H620v160ZM180-180h160v-160H180v160Zm440 0h160v-160H620v160Z\"/>\n",
              "  </svg>\n",
              "    </button>\n",
              "\n",
              "  <style>\n",
              "    .colab-df-container {\n",
              "      display:flex;\n",
              "      gap: 12px;\n",
              "    }\n",
              "\n",
              "    .colab-df-convert {\n",
              "      background-color: #E8F0FE;\n",
              "      border: none;\n",
              "      border-radius: 50%;\n",
              "      cursor: pointer;\n",
              "      display: none;\n",
              "      fill: #1967D2;\n",
              "      height: 32px;\n",
              "      padding: 0 0 0 0;\n",
              "      width: 32px;\n",
              "    }\n",
              "\n",
              "    .colab-df-convert:hover {\n",
              "      background-color: #E2EBFA;\n",
              "      box-shadow: 0px 1px 2px rgba(60, 64, 67, 0.3), 0px 1px 3px 1px rgba(60, 64, 67, 0.15);\n",
              "      fill: #174EA6;\n",
              "    }\n",
              "\n",
              "    .colab-df-buttons div {\n",
              "      margin-bottom: 4px;\n",
              "    }\n",
              "\n",
              "    [theme=dark] .colab-df-convert {\n",
              "      background-color: #3B4455;\n",
              "      fill: #D2E3FC;\n",
              "    }\n",
              "\n",
              "    [theme=dark] .colab-df-convert:hover {\n",
              "      background-color: #434B5C;\n",
              "      box-shadow: 0px 1px 3px 1px rgba(0, 0, 0, 0.15);\n",
              "      filter: drop-shadow(0px 1px 2px rgba(0, 0, 0, 0.3));\n",
              "      fill: #FFFFFF;\n",
              "    }\n",
              "  </style>\n",
              "\n",
              "    <script>\n",
              "      const buttonEl =\n",
              "        document.querySelector('#df-312476fe-ceb2-4620-8a00-9f932c30bdd5 button.colab-df-convert');\n",
              "      buttonEl.style.display =\n",
              "        google.colab.kernel.accessAllowed ? 'block' : 'none';\n",
              "\n",
              "      async function convertToInteractive(key) {\n",
              "        const element = document.querySelector('#df-312476fe-ceb2-4620-8a00-9f932c30bdd5');\n",
              "        const dataTable =\n",
              "          await google.colab.kernel.invokeFunction('convertToInteractive',\n",
              "                                                    [key], {});\n",
              "        if (!dataTable) return;\n",
              "\n",
              "        const docLinkHtml = 'Like what you see? Visit the ' +\n",
              "          '<a target=\"_blank\" href=https://colab.research.google.com/notebooks/data_table.ipynb>data table notebook</a>'\n",
              "          + ' to learn more about interactive tables.';\n",
              "        element.innerHTML = '';\n",
              "        dataTable['output_type'] = 'display_data';\n",
              "        await google.colab.output.renderOutput(dataTable, element);\n",
              "        const docLink = document.createElement('div');\n",
              "        docLink.innerHTML = docLinkHtml;\n",
              "        element.appendChild(docLink);\n",
              "      }\n",
              "    </script>\n",
              "  </div>\n",
              "\n",
              "\n",
              "<div id=\"df-243b3b36-95cb-48d0-8cd4-b4d8ee19f970\">\n",
              "  <button class=\"colab-df-quickchart\" onclick=\"quickchart('df-243b3b36-95cb-48d0-8cd4-b4d8ee19f970')\"\n",
              "            title=\"Suggest charts\"\n",
              "            style=\"display:none;\">\n",
              "\n",
              "<svg xmlns=\"http://www.w3.org/2000/svg\" height=\"24px\"viewBox=\"0 0 24 24\"\n",
              "     width=\"24px\">\n",
              "    <g>\n",
              "        <path d=\"M19 3H5c-1.1 0-2 .9-2 2v14c0 1.1.9 2 2 2h14c1.1 0 2-.9 2-2V5c0-1.1-.9-2-2-2zM9 17H7v-7h2v7zm4 0h-2V7h2v10zm4 0h-2v-4h2v4z\"/>\n",
              "    </g>\n",
              "</svg>\n",
              "  </button>\n",
              "\n",
              "<style>\n",
              "  .colab-df-quickchart {\n",
              "      --bg-color: #E8F0FE;\n",
              "      --fill-color: #1967D2;\n",
              "      --hover-bg-color: #E2EBFA;\n",
              "      --hover-fill-color: #174EA6;\n",
              "      --disabled-fill-color: #AAA;\n",
              "      --disabled-bg-color: #DDD;\n",
              "  }\n",
              "\n",
              "  [theme=dark] .colab-df-quickchart {\n",
              "      --bg-color: #3B4455;\n",
              "      --fill-color: #D2E3FC;\n",
              "      --hover-bg-color: #434B5C;\n",
              "      --hover-fill-color: #FFFFFF;\n",
              "      --disabled-bg-color: #3B4455;\n",
              "      --disabled-fill-color: #666;\n",
              "  }\n",
              "\n",
              "  .colab-df-quickchart {\n",
              "    background-color: var(--bg-color);\n",
              "    border: none;\n",
              "    border-radius: 50%;\n",
              "    cursor: pointer;\n",
              "    display: none;\n",
              "    fill: var(--fill-color);\n",
              "    height: 32px;\n",
              "    padding: 0;\n",
              "    width: 32px;\n",
              "  }\n",
              "\n",
              "  .colab-df-quickchart:hover {\n",
              "    background-color: var(--hover-bg-color);\n",
              "    box-shadow: 0 1px 2px rgba(60, 64, 67, 0.3), 0 1px 3px 1px rgba(60, 64, 67, 0.15);\n",
              "    fill: var(--button-hover-fill-color);\n",
              "  }\n",
              "\n",
              "  .colab-df-quickchart-complete:disabled,\n",
              "  .colab-df-quickchart-complete:disabled:hover {\n",
              "    background-color: var(--disabled-bg-color);\n",
              "    fill: var(--disabled-fill-color);\n",
              "    box-shadow: none;\n",
              "  }\n",
              "\n",
              "  .colab-df-spinner {\n",
              "    border: 2px solid var(--fill-color);\n",
              "    border-color: transparent;\n",
              "    border-bottom-color: var(--fill-color);\n",
              "    animation:\n",
              "      spin 1s steps(1) infinite;\n",
              "  }\n",
              "\n",
              "  @keyframes spin {\n",
              "    0% {\n",
              "      border-color: transparent;\n",
              "      border-bottom-color: var(--fill-color);\n",
              "      border-left-color: var(--fill-color);\n",
              "    }\n",
              "    20% {\n",
              "      border-color: transparent;\n",
              "      border-left-color: var(--fill-color);\n",
              "      border-top-color: var(--fill-color);\n",
              "    }\n",
              "    30% {\n",
              "      border-color: transparent;\n",
              "      border-left-color: var(--fill-color);\n",
              "      border-top-color: var(--fill-color);\n",
              "      border-right-color: var(--fill-color);\n",
              "    }\n",
              "    40% {\n",
              "      border-color: transparent;\n",
              "      border-right-color: var(--fill-color);\n",
              "      border-top-color: var(--fill-color);\n",
              "    }\n",
              "    60% {\n",
              "      border-color: transparent;\n",
              "      border-right-color: var(--fill-color);\n",
              "    }\n",
              "    80% {\n",
              "      border-color: transparent;\n",
              "      border-right-color: var(--fill-color);\n",
              "      border-bottom-color: var(--fill-color);\n",
              "    }\n",
              "    90% {\n",
              "      border-color: transparent;\n",
              "      border-bottom-color: var(--fill-color);\n",
              "    }\n",
              "  }\n",
              "</style>\n",
              "\n",
              "  <script>\n",
              "    async function quickchart(key) {\n",
              "      const quickchartButtonEl =\n",
              "        document.querySelector('#' + key + ' button');\n",
              "      quickchartButtonEl.disabled = true;  // To prevent multiple clicks.\n",
              "      quickchartButtonEl.classList.add('colab-df-spinner');\n",
              "      try {\n",
              "        const charts = await google.colab.kernel.invokeFunction(\n",
              "            'suggestCharts', [key], {});\n",
              "      } catch (error) {\n",
              "        console.error('Error during call to suggestCharts:', error);\n",
              "      }\n",
              "      quickchartButtonEl.classList.remove('colab-df-spinner');\n",
              "      quickchartButtonEl.classList.add('colab-df-quickchart-complete');\n",
              "    }\n",
              "    (() => {\n",
              "      let quickchartButtonEl =\n",
              "        document.querySelector('#df-243b3b36-95cb-48d0-8cd4-b4d8ee19f970 button');\n",
              "      quickchartButtonEl.style.display =\n",
              "        google.colab.kernel.accessAllowed ? 'block' : 'none';\n",
              "    })();\n",
              "  </script>\n",
              "</div>\n",
              "    </div>\n",
              "  </div>\n"
            ],
            "application/vnd.google.colaboratory.intrinsic+json": {
              "type": "dataframe",
              "variable_name": "df",
              "summary": "{\n  \"name\": \"df\",\n  \"rows\": 16559,\n  \"fields\": [\n    {\n      \"column\": \"Id\",\n      \"properties\": {\n        \"dtype\": \"string\",\n        \"num_unique_values\": 16559,\n        \"samples\": [\n          \"2011865\",\n          \"3056014\",\n          \"2903698\"\n        ],\n        \"semantic_type\": \"\",\n        \"description\": \"\"\n      }\n    },\n    {\n      \"column\": \"Column2\",\n      \"properties\": {\n        \"dtype\": \"string\",\n        \"num_unique_values\": 16556,\n        \"samples\": [\n          \"m06dymp\",\n          \"m08ngxk\",\n          \"m08bgp8\"\n        ],\n        \"semantic_type\": \"\",\n        \"description\": \"\"\n      }\n    },\n    {\n      \"column\": \"Booktitle\",\n      \"properties\": {\n        \"dtype\": \"string\",\n        \"num_unique_values\": 16270,\n        \"samples\": [\n          \"Science and Health with Key to the Scriptures\",\n          \"Donald Duk\",\n          \"Wings\"\n        ],\n        \"semantic_type\": \"\",\n        \"description\": \"\"\n      }\n    },\n    {\n      \"column\": \"Author\",\n      \"properties\": {\n        \"dtype\": \"category\",\n        \"num_unique_values\": 4715,\n        \"samples\": [\n          \"William Wells Brown\",\n          \"Thomas M Reid\",\n          \"Donald Corley\"\n        ],\n        \"semantic_type\": \"\",\n        \"description\": \"\"\n      }\n    },\n    {\n      \"column\": \"Year\",\n      \"properties\": {\n        \"dtype\": \"category\",\n        \"num_unique_values\": 2641,\n        \"samples\": [\n          \"200905\",\n          \"19840701\",\n          \"20071127\"\n        ],\n        \"semantic_type\": \"\",\n        \"description\": \"\"\n      }\n    },\n    {\n      \"column\": \"Genre\",\n      \"properties\": {\n        \"dtype\": \"category\",\n        \"num_unique_values\": 2156,\n        \"samples\": [\n          \"m06n90 Science Fiction m03npn Horror m05hgj Novel\",\n          \"m0dwly Childrens literature m01hmnh Fantasy m014dfn Speculative fiction m08sdrw Adventure novel m02xlf Fiction\",\n          \"m05hgj Novel m06nbt Satire m02p0szs Historical fiction m05qgc Poetry m02xlf Fiction\"\n        ],\n        \"semantic_type\": \"\",\n        \"description\": \"\"\n      }\n    },\n    {\n      \"column\": \"Summary\",\n      \"properties\": {\n        \"dtype\": \"string\",\n        \"num_unique_values\": 16531,\n        \"samples\": [\n          \" The novels protagonist mildmannered middleaged Joe Boyd is depicted as a lifelong fan of the hapless Washington Senators As the novel begins the Senators are losing ground in the American League to their longtime nemesis the New York Yankees The discouraged Boyd runs into an unexpected offer from a fasttalking confidence man who introduces himself as Mr Applegate Applegate offers to transform Joe Boyd into Joe Hardy a young baseball superstar and facilitate his signing with the Senators front office so that Hardy can help salvage the Senators lost season Boyd suspicious negotiates with Applegate and extracts a promise that the transformation will only be temporary and after helping the Senators win a suitable number of games Hardy will be able to retransfer himself back to his Joe Boyd personality The transformation takes place Hardy joins the Senators and all begins to develop as Applegate had predicted However the new baseball superstar begins to realize that his deal with Applegate may not be so temporary and he may have let himself in for more than he had expected to get As Hardys doubts grow over his predicament Applegate presents Hardy with love interest Lola depicted as a glamorous temptress in the style of the 1950s\\n\",\n          \" Seven years ago Vivek Vicky Rai the playboy son of the Home Minister of Uttar Pradesh murdered bartender Ruby Gill at a trendy restaurant in New Delhi simply because she refused to serve him a drink The opening murder committed by Vicky Rai is similar to the Jessica Lal murder case in which the killer was Manu Sharma Now Vicky Rai has been killed at the party he was throwing to celebrate his acquittal The police recover six guests with guns in their possession a corrupt bureaucrat who claims to have become Mahatma Gandhi an American tourist infatuated with an Indian actress a Stone Age tribesman on a quest to recover a sacred stone a Bollywood sex symbol with a guilty secret a mobilephone thief who dreams big and an ambitious politician prepared to stoop low Swarup unravels the lives and motives of the six suspects\\n\",\n          \" In June 1826 the Sultan Mahmud II disbands and slaughters the Janissaries once elite troops of the Ottoman Empire but long an unruly element beyond the control of the Sultan or anybody else Ten years later the new Westernized corps which replaced the Janissaries are to perform a military exercise Ten days before the event four officers disappear subsequently one officer is found dead The general entrusts Yashim the eunuch with solving the mystery Meanwhile the Sultans newest concubine is murdered and the Sultans mothers jewelry stolen Yashim must simultaneously investigate three different cases The cases bring Yashim in and out of the palace to various embassies a mosque and the alleyways and streets of Istanbul To solve the cases Yashim employs the assistance of a Polish ambassador and the wife of a Russian ambassador He discovers that the cases are related and that they not only involve a plot for revenge by surviving Janissaries hidden somewhere but also the power struggle between the palace eunuchs and the militarys extreme pursuit of democratization In the end Yashim against all odds succeeds in preventing several conspiracies\\n\"\n        ],\n        \"semantic_type\": \"\",\n        \"description\": \"\"\n      }\n    },\n    {\n      \"column\": \"Summary_Usless\",\n      \"properties\": {\n        \"dtype\": \"category\",\n        \"num_unique_values\": 1,\n        \"samples\": [\n          \" The book traces the origins of the idea of individual differences in general mental ability to 19th century researchers Herbert Spencer and Francis Galton Charles Spearman is credited for inventing factor analysis in the early 20th century which enabled statistical testing of the hypothesis that general mental ability is required in all mental efforts Spearman gave the name g to the common factor underlying all mental tasks He suggested that g reflected individual differences in mental energy and hoped that future research would uncover the biological basis of this energy Jensen argues that because it is difficult to arrive at a consensual scientific definition of the term intelligence scientists should dispense with the term and focus on specific abilities and their covariances He argues that mental abilities are best conceptualized as a threelevel hierarchy with a large number of narrow abilities at the base a relatively small number of broad factors at the intermediate level and a single general factor g at the apex The g factor can be derived from a correlation matrix of mental ability tests by many different methods of factor analysis A g factor always emerges provided that the test battery is sufficiently large and diverse The only exception is when one uses orthogonal rotation which precludes the appearance of a g factor Jensen argues that orthogonal rotation is not appropriate for substantially positively correlated variables such as mental abilities The g factor has been found to be largely invariant across different factor analytic methods and in different racial and cultural groups Jensen argues that g is normally distributed in any population He also contends that g cannot be described in terms of the information content or item characteristics of tests and likens it to a computers CPU Jensen hypothesizes that g is fundamentally about the speed or efficiency of the neural processes related to mental abilities Jensen reviews studies on biological correlates of g and notes that they are numerous including brain size latency and amplitude of evoked brain potentials rate of brain glucose metabolism and general health He puts the broadsense heritability of g at 40 to 50 in children at 60 to 70 in adolescents and young adults and at nearly 80 in older adults He argues that shared family influences on g are substantial in childhood but that in adults the environmental sources of variance are almost exclusively of the withinfamily kind Jensen suggests that the main environmental influence on g is developmental noise consisting of more or less random physical events affecting the neurophysiological substrate of mental growth Jensen reviews the evidence that elementary cognitive tasks ECTs are correlated with g He argues that the ECT research supports the notion that g is related to the speed and efficiency of neural processes The g factor shows considerable practical validity It is related to a large number of economically educationally and socially valued attributes It is a particularly good predictor of academic and jobrelated outcomes Jensen stresses the difference between g and what he calls vehicles of g Changes in test scores do not necessarily represent changes in the underlying construct viz g Practice effects on test scores appear to be unrelated to g An authentic change in g happens when the change shows broad generalizability to a wide variety of cognitive tasks Intensive psychological interventions beginning in infancy have generally failed to produce lasting effects on g To what extent the Flynn effect represents a change in g is unknown Mainly due to the relation between differences in g and important educational economic and social differences there has long been interest in group differences in g in the United States The most extensively researched is the gap between white and black Americans According to Jensen whites outscore blacks in the US by about 12 standard deviations or 18 IQ points on average Blacks in subSaharan Africa score on average about two standard deviations below the white mean The blackwhite gap in the US is not due to test bias Cognitive tests have the same reliability and validity for all Americanborn Englishspeaking groups The magnitude of the blackwhite gap in the US is best predicted by the tests g loading implying that the gap is mainly due to a difference in g Jensen argues that the blackwhite gap has a biological component He contends that the causes of differences in g between blacks and whites consist of the same environmental and genetic differences and in approximately the same magnitudes as withinpopulation differences The g factor is important because it is a major node in a complex network of educationally socially and economically important variables the g nexus Jensen believes that a persons level of g is a threshold variable and that above a certain threshold other nong abilities and talents including personality differences are critical for educational and vocational success Jensen thinks that future research on g will have to extend into two directions horizontal and vertical Horizontal research will identify new variables in the g nexus Vertical research will uncover the origins of g in terms of evolutionary biology and neurophysiology\\n\"\n        ],\n        \"semantic_type\": \"\",\n        \"description\": \"\"\n      }\n    }\n  ]\n}"
            }
          },
          "metadata": {},
          "execution_count": 20
        }
      ]
    },
    {
      "cell_type": "markdown",
      "source": [
        "### Genre Cleaning\n",
        "The genre column in our data contained encoded identifiers along with the actual genre names. These identifiers were not meaningful for our analysis and made the data harder to understand.\n",
        "\n",
        "### Handling Genre Cleaning\n",
        "To clean the genre column, we created a `clean_genre` function that uses regular expressions to remove these identifiers and keep only the genre names. The function removes any character that is not a letter or a space, effectively keeping only words.\n",
        "\n",
        "Here's the `clean_genre` function:\n",
        "\n",
        "```python\n",
        "def clean_genre(text):\n",
        "    # Remove words that contain numbers\n",
        "    text = re.sub(r'\\b\\w*\\d\\w*\\b', '', text)\n",
        "    return text\n"
      ],
      "metadata": {
        "id": "PCnxmsWXnydk"
      }
    },
    {
      "cell_type": "code",
      "source": [
        "def clean_genre(text):\n",
        "    # Remove words that contain numbers\n",
        "    text = re.sub(r'\\b\\w*\\d\\w*\\b', '', text)\n",
        "    return text\n",
        "\n",
        "\n",
        "df['Genre'] = df['Genre'].apply(clean_genre)\n"
      ],
      "metadata": {
        "id": "nn534laMnzWv"
      },
      "execution_count": null,
      "outputs": []
    },
    {
      "cell_type": "code",
      "source": [
        "import numpy as np\n",
        "\n",
        "# Replace empty strings with np.nan\n",
        "df.replace(\"\", np.nan, inplace=True)"
      ],
      "metadata": {
        "id": "4K2MjwI9SWDP"
      },
      "execution_count": null,
      "outputs": []
    },
    {
      "cell_type": "code",
      "source": [
        "#lets check the nan values\n",
        "df.isna().sum()"
      ],
      "metadata": {
        "id": "a3Imdj0gSvZQ",
        "colab": {
          "base_uri": "https://localhost:8080/"
        },
        "outputId": "f3c478e3-d3ff-4eb5-ded1-2729aaab3117"
      },
      "execution_count": null,
      "outputs": [
        {
          "output_type": "execute_result",
          "data": {
            "text/plain": [
              "Booktitle       0\n",
              "Author       2382\n",
              "Genre        3719\n",
              "Summary         0\n",
              "dtype: int64"
            ]
          },
          "metadata": {},
          "execution_count": 55
        }
      ]
    },
    {
      "cell_type": "code",
      "source": [
        "#we can drop Id, Column2, year and last summary columns\n",
        "df.drop(columns=['Id', 'Column2', 'Year', 'Summary_Usless'],inplace=True)"
      ],
      "metadata": {
        "id": "721eETGOTBFI"
      },
      "execution_count": null,
      "outputs": []
    },
    {
      "cell_type": "code",
      "source": [
        "df.head()"
      ],
      "metadata": {
        "colab": {
          "base_uri": "https://localhost:8080/",
          "height": 206
        },
        "id": "GKg5Z1sTsNIy",
        "outputId": "db7915fa-2809-4714-b581-dcfb71330847"
      },
      "execution_count": null,
      "outputs": [
        {
          "output_type": "execute_result",
          "data": {
            "text/plain": [
              "                                   Booktitle           Author  \\\n",
              "0                                Animal Farm    George Orwell   \n",
              "1                         A Clockwork Orange  Anthony Burgess   \n",
              "2                                 The Plague     Albert Camus   \n",
              "3  An Enquiry Concerning Human Understanding       David Hume   \n",
              "4                       A Fire Upon the Deep     Vernor Vinge   \n",
              "\n",
              "                                               Genre  \\\n",
              "0   Roman  clef  Satire  Childrens literature  Sp...   \n",
              "1   Science Fiction  Novella  Speculative fiction...   \n",
              "2   Existentialism  Fiction  Absurdist fiction  N...   \n",
              "3                                                NaN   \n",
              "4   Hard science fiction  Science Fiction  Specul...   \n",
              "\n",
              "                                             Summary  \n",
              "0   Old Major the old boar on the Manor Farm call...  \n",
              "1   Alex a teenager living in nearfuture England ...  \n",
              "2   The text of The Plague is divided into five p...  \n",
              "3   The argument of the Enquiry proceeds by a ser...  \n",
              "4   The novel posits that space around the Milky ...  "
            ],
            "text/html": [
              "\n",
              "  <div id=\"df-27f849e1-c6e5-4c4b-91a0-83e8bb1ec70c\" class=\"colab-df-container\">\n",
              "    <div>\n",
              "<style scoped>\n",
              "    .dataframe tbody tr th:only-of-type {\n",
              "        vertical-align: middle;\n",
              "    }\n",
              "\n",
              "    .dataframe tbody tr th {\n",
              "        vertical-align: top;\n",
              "    }\n",
              "\n",
              "    .dataframe thead th {\n",
              "        text-align: right;\n",
              "    }\n",
              "</style>\n",
              "<table border=\"1\" class=\"dataframe\">\n",
              "  <thead>\n",
              "    <tr style=\"text-align: right;\">\n",
              "      <th></th>\n",
              "      <th>Booktitle</th>\n",
              "      <th>Author</th>\n",
              "      <th>Genre</th>\n",
              "      <th>Summary</th>\n",
              "    </tr>\n",
              "  </thead>\n",
              "  <tbody>\n",
              "    <tr>\n",
              "      <th>0</th>\n",
              "      <td>Animal Farm</td>\n",
              "      <td>George Orwell</td>\n",
              "      <td>Roman  clef  Satire  Childrens literature  Sp...</td>\n",
              "      <td>Old Major the old boar on the Manor Farm call...</td>\n",
              "    </tr>\n",
              "    <tr>\n",
              "      <th>1</th>\n",
              "      <td>A Clockwork Orange</td>\n",
              "      <td>Anthony Burgess</td>\n",
              "      <td>Science Fiction  Novella  Speculative fiction...</td>\n",
              "      <td>Alex a teenager living in nearfuture England ...</td>\n",
              "    </tr>\n",
              "    <tr>\n",
              "      <th>2</th>\n",
              "      <td>The Plague</td>\n",
              "      <td>Albert Camus</td>\n",
              "      <td>Existentialism  Fiction  Absurdist fiction  N...</td>\n",
              "      <td>The text of The Plague is divided into five p...</td>\n",
              "    </tr>\n",
              "    <tr>\n",
              "      <th>3</th>\n",
              "      <td>An Enquiry Concerning Human Understanding</td>\n",
              "      <td>David Hume</td>\n",
              "      <td>NaN</td>\n",
              "      <td>The argument of the Enquiry proceeds by a ser...</td>\n",
              "    </tr>\n",
              "    <tr>\n",
              "      <th>4</th>\n",
              "      <td>A Fire Upon the Deep</td>\n",
              "      <td>Vernor Vinge</td>\n",
              "      <td>Hard science fiction  Science Fiction  Specul...</td>\n",
              "      <td>The novel posits that space around the Milky ...</td>\n",
              "    </tr>\n",
              "  </tbody>\n",
              "</table>\n",
              "</div>\n",
              "    <div class=\"colab-df-buttons\">\n",
              "\n",
              "  <div class=\"colab-df-container\">\n",
              "    <button class=\"colab-df-convert\" onclick=\"convertToInteractive('df-27f849e1-c6e5-4c4b-91a0-83e8bb1ec70c')\"\n",
              "            title=\"Convert this dataframe to an interactive table.\"\n",
              "            style=\"display:none;\">\n",
              "\n",
              "  <svg xmlns=\"http://www.w3.org/2000/svg\" height=\"24px\" viewBox=\"0 -960 960 960\">\n",
              "    <path d=\"M120-120v-720h720v720H120Zm60-500h600v-160H180v160Zm220 220h160v-160H400v160Zm0 220h160v-160H400v160ZM180-400h160v-160H180v160Zm440 0h160v-160H620v160ZM180-180h160v-160H180v160Zm440 0h160v-160H620v160Z\"/>\n",
              "  </svg>\n",
              "    </button>\n",
              "\n",
              "  <style>\n",
              "    .colab-df-container {\n",
              "      display:flex;\n",
              "      gap: 12px;\n",
              "    }\n",
              "\n",
              "    .colab-df-convert {\n",
              "      background-color: #E8F0FE;\n",
              "      border: none;\n",
              "      border-radius: 50%;\n",
              "      cursor: pointer;\n",
              "      display: none;\n",
              "      fill: #1967D2;\n",
              "      height: 32px;\n",
              "      padding: 0 0 0 0;\n",
              "      width: 32px;\n",
              "    }\n",
              "\n",
              "    .colab-df-convert:hover {\n",
              "      background-color: #E2EBFA;\n",
              "      box-shadow: 0px 1px 2px rgba(60, 64, 67, 0.3), 0px 1px 3px 1px rgba(60, 64, 67, 0.15);\n",
              "      fill: #174EA6;\n",
              "    }\n",
              "\n",
              "    .colab-df-buttons div {\n",
              "      margin-bottom: 4px;\n",
              "    }\n",
              "\n",
              "    [theme=dark] .colab-df-convert {\n",
              "      background-color: #3B4455;\n",
              "      fill: #D2E3FC;\n",
              "    }\n",
              "\n",
              "    [theme=dark] .colab-df-convert:hover {\n",
              "      background-color: #434B5C;\n",
              "      box-shadow: 0px 1px 3px 1px rgba(0, 0, 0, 0.15);\n",
              "      filter: drop-shadow(0px 1px 2px rgba(0, 0, 0, 0.3));\n",
              "      fill: #FFFFFF;\n",
              "    }\n",
              "  </style>\n",
              "\n",
              "    <script>\n",
              "      const buttonEl =\n",
              "        document.querySelector('#df-27f849e1-c6e5-4c4b-91a0-83e8bb1ec70c button.colab-df-convert');\n",
              "      buttonEl.style.display =\n",
              "        google.colab.kernel.accessAllowed ? 'block' : 'none';\n",
              "\n",
              "      async function convertToInteractive(key) {\n",
              "        const element = document.querySelector('#df-27f849e1-c6e5-4c4b-91a0-83e8bb1ec70c');\n",
              "        const dataTable =\n",
              "          await google.colab.kernel.invokeFunction('convertToInteractive',\n",
              "                                                    [key], {});\n",
              "        if (!dataTable) return;\n",
              "\n",
              "        const docLinkHtml = 'Like what you see? Visit the ' +\n",
              "          '<a target=\"_blank\" href=https://colab.research.google.com/notebooks/data_table.ipynb>data table notebook</a>'\n",
              "          + ' to learn more about interactive tables.';\n",
              "        element.innerHTML = '';\n",
              "        dataTable['output_type'] = 'display_data';\n",
              "        await google.colab.output.renderOutput(dataTable, element);\n",
              "        const docLink = document.createElement('div');\n",
              "        docLink.innerHTML = docLinkHtml;\n",
              "        element.appendChild(docLink);\n",
              "      }\n",
              "    </script>\n",
              "  </div>\n",
              "\n",
              "\n",
              "<div id=\"df-df88bca6-06ac-466e-8c72-49670d4aee94\">\n",
              "  <button class=\"colab-df-quickchart\" onclick=\"quickchart('df-df88bca6-06ac-466e-8c72-49670d4aee94')\"\n",
              "            title=\"Suggest charts\"\n",
              "            style=\"display:none;\">\n",
              "\n",
              "<svg xmlns=\"http://www.w3.org/2000/svg\" height=\"24px\"viewBox=\"0 0 24 24\"\n",
              "     width=\"24px\">\n",
              "    <g>\n",
              "        <path d=\"M19 3H5c-1.1 0-2 .9-2 2v14c0 1.1.9 2 2 2h14c1.1 0 2-.9 2-2V5c0-1.1-.9-2-2-2zM9 17H7v-7h2v7zm4 0h-2V7h2v10zm4 0h-2v-4h2v4z\"/>\n",
              "    </g>\n",
              "</svg>\n",
              "  </button>\n",
              "\n",
              "<style>\n",
              "  .colab-df-quickchart {\n",
              "      --bg-color: #E8F0FE;\n",
              "      --fill-color: #1967D2;\n",
              "      --hover-bg-color: #E2EBFA;\n",
              "      --hover-fill-color: #174EA6;\n",
              "      --disabled-fill-color: #AAA;\n",
              "      --disabled-bg-color: #DDD;\n",
              "  }\n",
              "\n",
              "  [theme=dark] .colab-df-quickchart {\n",
              "      --bg-color: #3B4455;\n",
              "      --fill-color: #D2E3FC;\n",
              "      --hover-bg-color: #434B5C;\n",
              "      --hover-fill-color: #FFFFFF;\n",
              "      --disabled-bg-color: #3B4455;\n",
              "      --disabled-fill-color: #666;\n",
              "  }\n",
              "\n",
              "  .colab-df-quickchart {\n",
              "    background-color: var(--bg-color);\n",
              "    border: none;\n",
              "    border-radius: 50%;\n",
              "    cursor: pointer;\n",
              "    display: none;\n",
              "    fill: var(--fill-color);\n",
              "    height: 32px;\n",
              "    padding: 0;\n",
              "    width: 32px;\n",
              "  }\n",
              "\n",
              "  .colab-df-quickchart:hover {\n",
              "    background-color: var(--hover-bg-color);\n",
              "    box-shadow: 0 1px 2px rgba(60, 64, 67, 0.3), 0 1px 3px 1px rgba(60, 64, 67, 0.15);\n",
              "    fill: var(--button-hover-fill-color);\n",
              "  }\n",
              "\n",
              "  .colab-df-quickchart-complete:disabled,\n",
              "  .colab-df-quickchart-complete:disabled:hover {\n",
              "    background-color: var(--disabled-bg-color);\n",
              "    fill: var(--disabled-fill-color);\n",
              "    box-shadow: none;\n",
              "  }\n",
              "\n",
              "  .colab-df-spinner {\n",
              "    border: 2px solid var(--fill-color);\n",
              "    border-color: transparent;\n",
              "    border-bottom-color: var(--fill-color);\n",
              "    animation:\n",
              "      spin 1s steps(1) infinite;\n",
              "  }\n",
              "\n",
              "  @keyframes spin {\n",
              "    0% {\n",
              "      border-color: transparent;\n",
              "      border-bottom-color: var(--fill-color);\n",
              "      border-left-color: var(--fill-color);\n",
              "    }\n",
              "    20% {\n",
              "      border-color: transparent;\n",
              "      border-left-color: var(--fill-color);\n",
              "      border-top-color: var(--fill-color);\n",
              "    }\n",
              "    30% {\n",
              "      border-color: transparent;\n",
              "      border-left-color: var(--fill-color);\n",
              "      border-top-color: var(--fill-color);\n",
              "      border-right-color: var(--fill-color);\n",
              "    }\n",
              "    40% {\n",
              "      border-color: transparent;\n",
              "      border-right-color: var(--fill-color);\n",
              "      border-top-color: var(--fill-color);\n",
              "    }\n",
              "    60% {\n",
              "      border-color: transparent;\n",
              "      border-right-color: var(--fill-color);\n",
              "    }\n",
              "    80% {\n",
              "      border-color: transparent;\n",
              "      border-right-color: var(--fill-color);\n",
              "      border-bottom-color: var(--fill-color);\n",
              "    }\n",
              "    90% {\n",
              "      border-color: transparent;\n",
              "      border-bottom-color: var(--fill-color);\n",
              "    }\n",
              "  }\n",
              "</style>\n",
              "\n",
              "  <script>\n",
              "    async function quickchart(key) {\n",
              "      const quickchartButtonEl =\n",
              "        document.querySelector('#' + key + ' button');\n",
              "      quickchartButtonEl.disabled = true;  // To prevent multiple clicks.\n",
              "      quickchartButtonEl.classList.add('colab-df-spinner');\n",
              "      try {\n",
              "        const charts = await google.colab.kernel.invokeFunction(\n",
              "            'suggestCharts', [key], {});\n",
              "      } catch (error) {\n",
              "        console.error('Error during call to suggestCharts:', error);\n",
              "      }\n",
              "      quickchartButtonEl.classList.remove('colab-df-spinner');\n",
              "      quickchartButtonEl.classList.add('colab-df-quickchart-complete');\n",
              "    }\n",
              "    (() => {\n",
              "      let quickchartButtonEl =\n",
              "        document.querySelector('#df-df88bca6-06ac-466e-8c72-49670d4aee94 button');\n",
              "      quickchartButtonEl.style.display =\n",
              "        google.colab.kernel.accessAllowed ? 'block' : 'none';\n",
              "    })();\n",
              "  </script>\n",
              "</div>\n",
              "    </div>\n",
              "  </div>\n"
            ],
            "application/vnd.google.colaboratory.intrinsic+json": {
              "type": "dataframe",
              "variable_name": "df",
              "summary": "{\n  \"name\": \"df\",\n  \"rows\": 16559,\n  \"fields\": [\n    {\n      \"column\": \"Booktitle\",\n      \"properties\": {\n        \"dtype\": \"string\",\n        \"num_unique_values\": 16270,\n        \"samples\": [\n          \"Science and Health with Key to the Scriptures\",\n          \"Donald Duk\",\n          \"Wings\"\n        ],\n        \"semantic_type\": \"\",\n        \"description\": \"\"\n      }\n    },\n    {\n      \"column\": \"Author\",\n      \"properties\": {\n        \"dtype\": \"category\",\n        \"num_unique_values\": 4714,\n        \"samples\": [\n          \"Quentin Fiore\",\n          \"Richard Baker\",\n          \"Kerry Greenwood\"\n        ],\n        \"semantic_type\": \"\",\n        \"description\": \"\"\n      }\n    },\n    {\n      \"column\": \"Genre\",\n      \"properties\": {\n        \"dtype\": \"category\",\n        \"num_unique_values\": 2154,\n        \"samples\": [\n          \" Thriller  Novel  Childrens literature  Fiction  Suspense\",\n          \" Nature  Science Fiction  Speculative fiction  Fiction\",\n          \" Mystery  Science Fiction  Speculative fiction  Novel\"\n        ],\n        \"semantic_type\": \"\",\n        \"description\": \"\"\n      }\n    },\n    {\n      \"column\": \"Summary\",\n      \"properties\": {\n        \"dtype\": \"string\",\n        \"num_unique_values\": 16531,\n        \"samples\": [\n          \" The novels protagonist mildmannered middleaged Joe Boyd is depicted as a lifelong fan of the hapless Washington Senators As the novel begins the Senators are losing ground in the American League to their longtime nemesis the New York Yankees The discouraged Boyd runs into an unexpected offer from a fasttalking confidence man who introduces himself as Mr Applegate Applegate offers to transform Joe Boyd into Joe Hardy a young baseball superstar and facilitate his signing with the Senators front office so that Hardy can help salvage the Senators lost season Boyd suspicious negotiates with Applegate and extracts a promise that the transformation will only be temporary and after helping the Senators win a suitable number of games Hardy will be able to retransfer himself back to his Joe Boyd personality The transformation takes place Hardy joins the Senators and all begins to develop as Applegate had predicted However the new baseball superstar begins to realize that his deal with Applegate may not be so temporary and he may have let himself in for more than he had expected to get As Hardys doubts grow over his predicament Applegate presents Hardy with love interest Lola depicted as a glamorous temptress in the style of the 1950s\\n\",\n          \" Seven years ago Vivek Vicky Rai the playboy son of the Home Minister of Uttar Pradesh murdered bartender Ruby Gill at a trendy restaurant in New Delhi simply because she refused to serve him a drink The opening murder committed by Vicky Rai is similar to the Jessica Lal murder case in which the killer was Manu Sharma Now Vicky Rai has been killed at the party he was throwing to celebrate his acquittal The police recover six guests with guns in their possession a corrupt bureaucrat who claims to have become Mahatma Gandhi an American tourist infatuated with an Indian actress a Stone Age tribesman on a quest to recover a sacred stone a Bollywood sex symbol with a guilty secret a mobilephone thief who dreams big and an ambitious politician prepared to stoop low Swarup unravels the lives and motives of the six suspects\\n\",\n          \" In June 1826 the Sultan Mahmud II disbands and slaughters the Janissaries once elite troops of the Ottoman Empire but long an unruly element beyond the control of the Sultan or anybody else Ten years later the new Westernized corps which replaced the Janissaries are to perform a military exercise Ten days before the event four officers disappear subsequently one officer is found dead The general entrusts Yashim the eunuch with solving the mystery Meanwhile the Sultans newest concubine is murdered and the Sultans mothers jewelry stolen Yashim must simultaneously investigate three different cases The cases bring Yashim in and out of the palace to various embassies a mosque and the alleyways and streets of Istanbul To solve the cases Yashim employs the assistance of a Polish ambassador and the wife of a Russian ambassador He discovers that the cases are related and that they not only involve a plot for revenge by surviving Janissaries hidden somewhere but also the power struggle between the palace eunuchs and the militarys extreme pursuit of democratization In the end Yashim against all odds succeeds in preventing several conspiracies\\n\"\n        ],\n        \"semantic_type\": \"\",\n        \"description\": \"\"\n      }\n    }\n  ]\n}"
            }
          },
          "metadata": {},
          "execution_count": 56
        }
      ]
    },
    {
      "cell_type": "markdown",
      "source": [
        "### Handling Missing Values in Genre\n",
        "\n",
        "The genre column in our data contained some missing values, represented as empty strings (\"\"). Missing values can hinder our data analysis process, so it's important to handle them appropriately.\n",
        "\n",
        "## Filling Missing Values\n",
        "\n",
        "There are several strategies we can use to fill these missing values:\n",
        "\n",
        "1. **Group by Author**: One approach is to group the data by the author, and fill the missing genre values based on the most common genre for each author. This assumes that an author typically writes in the same genre.\n",
        "\n",
        "```python\n",
        "# Fill missing values based on author's most common genre\n",
        "df['Genre'] = df.groupby('Author')['Genre'].apply(lambda x: x.fillna(x.mode()[0] if not x.mode().empty else \"\"))\n",
        "```\n",
        "\n",
        "2. **Use NLP Models**: If there are still a lot of missing values, we can use Natural Language Processing (NLP) models or Language Model (LM) to predict the genre based on other information, such as the book summary.\n",
        "\n",
        "3. **Manual Filling**: If the number of missing values is small, we could also manually determine the missing values by researching the genre of the specific books.\n"
      ],
      "metadata": {
        "id": "FNc8yFN6RU1P"
      }
    },
    {
      "cell_type": "code",
      "source": [
        "df.groupby('Author')['Genre'].value_counts()"
      ],
      "metadata": {
        "colab": {
          "base_uri": "https://localhost:8080/"
        },
        "id": "3u5Bn7g3R6JZ",
        "outputId": "0d63485b-9539-4613-bb1d-d77368931aff"
      },
      "execution_count": null,
      "outputs": [
        {
          "output_type": "execute_result",
          "data": {
            "text/plain": [
              "Author         Genre                           \n",
              "                                                   1596\n",
              "                Science Fiction                     106\n",
              "                Childrens literature                 74\n",
              "                Novel                                61\n",
              "                Fantasy                              48\n",
              "                                                   ... \n",
              "mile Zola                                             1\n",
              "                Short story                           1\n",
              "                Psychological novel                   1\n",
              "                Psychology  Psychological novel       1\n",
              "sne Seierstad   Nonfiction                            1\n",
              "Name: count, Length: 9638, dtype: int64"
            ]
          },
          "metadata": {},
          "execution_count": 14
        }
      ]
    },
    {
      "cell_type": "markdown",
      "source": [],
      "metadata": {
        "id": "GB3wWqKv3XO4"
      }
    },
    {
      "cell_type": "markdown",
      "source": [
        "# Genre Searching Solution\n",
        "\n",
        "after trying some simple solutions, I came up with this one.\n",
        "we don't have any missing data in the Book_name column, so we can use it as a keyword\n",
        "to search for the genre.\n"
      ],
      "metadata": {
        "id": "iZKn0NPm3_i8"
      }
    },
    {
      "cell_type": "code",
      "source": [
        "import requests\n",
        "from bs4 import BeautifulSoup\n",
        "\n",
        "def get_book_genre(book_name):\n",
        "    # Replace spaces with '+' for the URL\n",
        "    book_name = book_name.replace(' ', '+')\n",
        "\n",
        "    # Use Google to search for the book\n",
        "    url = f\"https://www.google.com/search?q={book_name}+book+genre\"\n",
        "\n",
        "    # Send a request to the website\n",
        "    response = requests.get(url)\n",
        "\n",
        "    # Parse the HTML content of the page with BeautifulSoup\n",
        "    soup = BeautifulSoup(response.content, 'html.parser')\n",
        "\n",
        "    # Find the genre of the book\n",
        "    genre_list = soup.find_all('div', {'class': 'BNeawe s3v9rd AP7Wnd'})\n",
        "\n",
        "    # Extract the text from each genre element and store them in a list\n",
        "    genres = [genre.get_text() for genre in genre_list if \"Genre\" in genre.get_text() or \"Subject\" in genre.get_text()]\n",
        "\n",
        "    try:\n",
        "      genres = genres[0]\n",
        "\n",
        "      #the output is Genres: Allegory, Fable, Satire, and more we want the first tree genres in a list\n",
        "      _, genres = genres.split(\": \")\n",
        "      genres = np.array(genres.split(\" \"))\n",
        "      if len(genres) > 3:\n",
        "          genres = genres[:3]\n",
        "      else:\n",
        "          pass\n",
        "      return genres\n",
        "    except:\n",
        "      genres = [genre.get_text() for genre in genre_list]\n",
        "      print(genres)\n",
        "      return np.nan\n",
        "\n",
        "\n",
        "book_name = \"Animal Farm\"  # Example book\n",
        "print(get_book_genre(book_name))\n",
        "#the output is Genres: Allegory, Fable, Satire, and more we want the first tree genres in a list\n",
        "\n"
      ],
      "metadata": {
        "colab": {
          "base_uri": "https://localhost:8080/"
        },
        "id": "Oz0Alby4vq12",
        "outputId": "c86c6e63-9bec-4bbc-bb0a-13175079c293"
      },
      "execution_count": 108,
      "outputs": [
        {
          "output_type": "stream",
          "name": "stdout",
          "text": [
            "['Allegory,' 'Fable,' 'Satire,']\n"
          ]
        }
      ]
    },
    {
      "cell_type": "code",
      "source": [
        "import requests\n",
        "\n",
        "def get_book_genre(book_name):\n",
        "    # Replace spaces with '+' for the URL\n",
        "    book_name = book_name.replace(' ', '+')\n",
        "\n",
        "    # Use the Google Books API to search for the book\n",
        "    url = f\"https://www.googleapis.com/books/v1/volumes?q={book_name}\"\n",
        "\n",
        "    # Send a request to the API\n",
        "    response = requests.get(url)\n",
        "\n",
        "    # Convert the response to JSON\n",
        "    data = response.json()\n",
        "\n",
        "    # Get the first book from the results\n",
        "    try:\n",
        "      book = data['items'][0]\n",
        "    except:\n",
        "      print(book_name)\n",
        "      return np.nan\n",
        "\n",
        "    # Get the genres (categories) of the book\n",
        "    #print(book)\n",
        "    genres = book['volumeInfo'].get('categories', [])\n",
        "\n",
        "    #print(1)\n",
        "    try:\n",
        "      return np.array(genres[0])\n",
        "    except:\n",
        "      i = 2\n",
        "      while len(genres) < 1:\n",
        "        book = data['items'][i]\n",
        "        genres = book['volumeInfo'].get('categories', [])\n",
        "        i += 1\n",
        "      return np.array(genres[0])\n",
        "\n",
        "\n",
        "book_name = \"Hamlet\"  # Example book\n",
        "print(f\"The genres of '{book_name}' are {get_book_genre(book_name)}\")\n"
      ],
      "metadata": {
        "colab": {
          "base_uri": "https://localhost:8080/"
        },
        "id": "cKT5vDm8606n",
        "outputId": "e6425901-d8fc-4275-92b2-1a32b350d543"
      },
      "execution_count": 179,
      "outputs": [
        {
          "output_type": "stream",
          "name": "stdout",
          "text": [
            "The genres of 'Hamlet' are Drama\n"
          ]
        }
      ]
    },
    {
      "cell_type": "code",
      "source": [
        "def genre_finder(row):\n",
        "    return get_book_genre(row['Booktitle'])"
      ],
      "metadata": {
        "id": "pQ5-5Vg4He5B"
      },
      "execution_count": 180,
      "outputs": []
    },
    {
      "cell_type": "code",
      "source": [
        "fill = df[df['Genre'].isna()].apply(genre_finder, axis=1)"
      ],
      "metadata": {
        "colab": {
          "base_uri": "https://localhost:8080/",
          "height": 660
        },
        "id": "2CZNxP1KJepV",
        "outputId": "b0421db5-8441-40d4-f22a-8da39e1cceda"
      },
      "execution_count": 181,
      "outputs": [
        {
          "output_type": "stream",
          "name": "stdout",
          "text": [
            "King+John\n",
            "The+History+of+Rasselas+Prince+of+Abissinia\n",
            "The+Shooting+Star\n",
            "Le+Pre+Goriot\n",
            "Grim+the+Collier+of+Croydon\n",
            "This+Present+Darkness\n",
            "The+Wasps\n",
            "If+I+Forget+Thee+Jerusalem\n",
            "Venice+Preservd\n",
            "Unidentified+Human+Remains+and+the+True+Nature+of+Love\n",
            "Asterix+and+the+Black+Gold\n",
            "La+Femme+pige\n",
            "Once+on+a+Time\n"
          ]
        },
        {
          "output_type": "error",
          "ename": "IndexError",
          "evalue": "list index out of range",
          "traceback": [
            "\u001b[0;31m---------------------------------------------------------------------------\u001b[0m",
            "\u001b[0;31mIndexError\u001b[0m                                Traceback (most recent call last)",
            "\u001b[0;32m<ipython-input-179-b147b5769f95>\u001b[0m in \u001b[0;36mget_book_genre\u001b[0;34m(book_name)\u001b[0m\n\u001b[1;32m     28\u001b[0m     \u001b[0;32mtry\u001b[0m\u001b[0;34m:\u001b[0m\u001b[0;34m\u001b[0m\u001b[0;34m\u001b[0m\u001b[0m\n\u001b[0;32m---> 29\u001b[0;31m       \u001b[0;32mreturn\u001b[0m \u001b[0mnp\u001b[0m\u001b[0;34m.\u001b[0m\u001b[0marray\u001b[0m\u001b[0;34m(\u001b[0m\u001b[0mgenres\u001b[0m\u001b[0;34m[\u001b[0m\u001b[0;36m0\u001b[0m\u001b[0;34m]\u001b[0m\u001b[0;34m)\u001b[0m\u001b[0;34m\u001b[0m\u001b[0;34m\u001b[0m\u001b[0m\n\u001b[0m\u001b[1;32m     30\u001b[0m     \u001b[0;32mexcept\u001b[0m\u001b[0;34m:\u001b[0m\u001b[0;34m\u001b[0m\u001b[0;34m\u001b[0m\u001b[0m\n",
            "\u001b[0;31mIndexError\u001b[0m: list index out of range",
            "\nDuring handling of the above exception, another exception occurred:\n",
            "\u001b[0;31mIndexError\u001b[0m                                Traceback (most recent call last)",
            "\u001b[0;32m<ipython-input-181-209f3631d6e4>\u001b[0m in \u001b[0;36m<cell line: 1>\u001b[0;34m()\u001b[0m\n\u001b[0;32m----> 1\u001b[0;31m \u001b[0mfill\u001b[0m \u001b[0;34m=\u001b[0m \u001b[0mdf\u001b[0m\u001b[0;34m[\u001b[0m\u001b[0mdf\u001b[0m\u001b[0;34m[\u001b[0m\u001b[0;34m'Genre'\u001b[0m\u001b[0;34m]\u001b[0m\u001b[0;34m.\u001b[0m\u001b[0misna\u001b[0m\u001b[0;34m(\u001b[0m\u001b[0;34m)\u001b[0m\u001b[0;34m]\u001b[0m\u001b[0;34m.\u001b[0m\u001b[0mapply\u001b[0m\u001b[0;34m(\u001b[0m\u001b[0mgenre_finder\u001b[0m\u001b[0;34m,\u001b[0m \u001b[0maxis\u001b[0m\u001b[0;34m=\u001b[0m\u001b[0;36m1\u001b[0m\u001b[0;34m)\u001b[0m\u001b[0;34m\u001b[0m\u001b[0;34m\u001b[0m\u001b[0m\n\u001b[0m",
            "\u001b[0;32m/usr/local/lib/python3.10/dist-packages/pandas/core/frame.py\u001b[0m in \u001b[0;36mapply\u001b[0;34m(self, func, axis, raw, result_type, args, **kwargs)\u001b[0m\n\u001b[1;32m   9421\u001b[0m             \u001b[0mkwargs\u001b[0m\u001b[0;34m=\u001b[0m\u001b[0mkwargs\u001b[0m\u001b[0;34m,\u001b[0m\u001b[0;34m\u001b[0m\u001b[0;34m\u001b[0m\u001b[0m\n\u001b[1;32m   9422\u001b[0m         )\n\u001b[0;32m-> 9423\u001b[0;31m         \u001b[0;32mreturn\u001b[0m \u001b[0mop\u001b[0m\u001b[0;34m.\u001b[0m\u001b[0mapply\u001b[0m\u001b[0;34m(\u001b[0m\u001b[0;34m)\u001b[0m\u001b[0;34m.\u001b[0m\u001b[0m__finalize__\u001b[0m\u001b[0;34m(\u001b[0m\u001b[0mself\u001b[0m\u001b[0;34m,\u001b[0m \u001b[0mmethod\u001b[0m\u001b[0;34m=\u001b[0m\u001b[0;34m\"apply\"\u001b[0m\u001b[0;34m)\u001b[0m\u001b[0;34m\u001b[0m\u001b[0;34m\u001b[0m\u001b[0m\n\u001b[0m\u001b[1;32m   9424\u001b[0m \u001b[0;34m\u001b[0m\u001b[0m\n\u001b[1;32m   9425\u001b[0m     def applymap(\n",
            "\u001b[0;32m/usr/local/lib/python3.10/dist-packages/pandas/core/apply.py\u001b[0m in \u001b[0;36mapply\u001b[0;34m(self)\u001b[0m\n\u001b[1;32m    676\u001b[0m             \u001b[0;32mreturn\u001b[0m \u001b[0mself\u001b[0m\u001b[0;34m.\u001b[0m\u001b[0mapply_raw\u001b[0m\u001b[0;34m(\u001b[0m\u001b[0;34m)\u001b[0m\u001b[0;34m\u001b[0m\u001b[0;34m\u001b[0m\u001b[0m\n\u001b[1;32m    677\u001b[0m \u001b[0;34m\u001b[0m\u001b[0m\n\u001b[0;32m--> 678\u001b[0;31m         \u001b[0;32mreturn\u001b[0m \u001b[0mself\u001b[0m\u001b[0;34m.\u001b[0m\u001b[0mapply_standard\u001b[0m\u001b[0;34m(\u001b[0m\u001b[0;34m)\u001b[0m\u001b[0;34m\u001b[0m\u001b[0;34m\u001b[0m\u001b[0m\n\u001b[0m\u001b[1;32m    679\u001b[0m \u001b[0;34m\u001b[0m\u001b[0m\n\u001b[1;32m    680\u001b[0m     \u001b[0;32mdef\u001b[0m \u001b[0magg\u001b[0m\u001b[0;34m(\u001b[0m\u001b[0mself\u001b[0m\u001b[0;34m)\u001b[0m\u001b[0;34m:\u001b[0m\u001b[0;34m\u001b[0m\u001b[0;34m\u001b[0m\u001b[0m\n",
            "\u001b[0;32m/usr/local/lib/python3.10/dist-packages/pandas/core/apply.py\u001b[0m in \u001b[0;36mapply_standard\u001b[0;34m(self)\u001b[0m\n\u001b[1;32m    796\u001b[0m \u001b[0;34m\u001b[0m\u001b[0m\n\u001b[1;32m    797\u001b[0m     \u001b[0;32mdef\u001b[0m \u001b[0mapply_standard\u001b[0m\u001b[0;34m(\u001b[0m\u001b[0mself\u001b[0m\u001b[0;34m)\u001b[0m\u001b[0;34m:\u001b[0m\u001b[0;34m\u001b[0m\u001b[0;34m\u001b[0m\u001b[0m\n\u001b[0;32m--> 798\u001b[0;31m         \u001b[0mresults\u001b[0m\u001b[0;34m,\u001b[0m \u001b[0mres_index\u001b[0m \u001b[0;34m=\u001b[0m \u001b[0mself\u001b[0m\u001b[0;34m.\u001b[0m\u001b[0mapply_series_generator\u001b[0m\u001b[0;34m(\u001b[0m\u001b[0;34m)\u001b[0m\u001b[0;34m\u001b[0m\u001b[0;34m\u001b[0m\u001b[0m\n\u001b[0m\u001b[1;32m    799\u001b[0m \u001b[0;34m\u001b[0m\u001b[0m\n\u001b[1;32m    800\u001b[0m         \u001b[0;31m# wrap results\u001b[0m\u001b[0;34m\u001b[0m\u001b[0;34m\u001b[0m\u001b[0m\n",
            "\u001b[0;32m/usr/local/lib/python3.10/dist-packages/pandas/core/apply.py\u001b[0m in \u001b[0;36mapply_series_generator\u001b[0;34m(self)\u001b[0m\n\u001b[1;32m    812\u001b[0m             \u001b[0;32mfor\u001b[0m \u001b[0mi\u001b[0m\u001b[0;34m,\u001b[0m \u001b[0mv\u001b[0m \u001b[0;32min\u001b[0m \u001b[0menumerate\u001b[0m\u001b[0;34m(\u001b[0m\u001b[0mseries_gen\u001b[0m\u001b[0;34m)\u001b[0m\u001b[0;34m:\u001b[0m\u001b[0;34m\u001b[0m\u001b[0;34m\u001b[0m\u001b[0m\n\u001b[1;32m    813\u001b[0m                 \u001b[0;31m# ignore SettingWithCopy here in case the user mutates\u001b[0m\u001b[0;34m\u001b[0m\u001b[0;34m\u001b[0m\u001b[0m\n\u001b[0;32m--> 814\u001b[0;31m                 \u001b[0mresults\u001b[0m\u001b[0;34m[\u001b[0m\u001b[0mi\u001b[0m\u001b[0;34m]\u001b[0m \u001b[0;34m=\u001b[0m \u001b[0mself\u001b[0m\u001b[0;34m.\u001b[0m\u001b[0mf\u001b[0m\u001b[0;34m(\u001b[0m\u001b[0mv\u001b[0m\u001b[0;34m)\u001b[0m\u001b[0;34m\u001b[0m\u001b[0;34m\u001b[0m\u001b[0m\n\u001b[0m\u001b[1;32m    815\u001b[0m                 \u001b[0;32mif\u001b[0m \u001b[0misinstance\u001b[0m\u001b[0;34m(\u001b[0m\u001b[0mresults\u001b[0m\u001b[0;34m[\u001b[0m\u001b[0mi\u001b[0m\u001b[0;34m]\u001b[0m\u001b[0;34m,\u001b[0m \u001b[0mABCSeries\u001b[0m\u001b[0;34m)\u001b[0m\u001b[0;34m:\u001b[0m\u001b[0;34m\u001b[0m\u001b[0;34m\u001b[0m\u001b[0m\n\u001b[1;32m    816\u001b[0m                     \u001b[0;31m# If we have a view on v, we need to make a copy because\u001b[0m\u001b[0;34m\u001b[0m\u001b[0;34m\u001b[0m\u001b[0m\n",
            "\u001b[0;32m<ipython-input-180-f2b0da1245b7>\u001b[0m in \u001b[0;36mgenre_finder\u001b[0;34m(row)\u001b[0m\n\u001b[1;32m      1\u001b[0m \u001b[0;32mdef\u001b[0m \u001b[0mgenre_finder\u001b[0m\u001b[0;34m(\u001b[0m\u001b[0mrow\u001b[0m\u001b[0;34m)\u001b[0m\u001b[0;34m:\u001b[0m\u001b[0;34m\u001b[0m\u001b[0;34m\u001b[0m\u001b[0m\n\u001b[0;32m----> 2\u001b[0;31m     \u001b[0;32mreturn\u001b[0m \u001b[0mget_book_genre\u001b[0m\u001b[0;34m(\u001b[0m\u001b[0mrow\u001b[0m\u001b[0;34m[\u001b[0m\u001b[0;34m'Booktitle'\u001b[0m\u001b[0;34m]\u001b[0m\u001b[0;34m)\u001b[0m\u001b[0;34m\u001b[0m\u001b[0;34m\u001b[0m\u001b[0m\n\u001b[0m",
            "\u001b[0;32m<ipython-input-179-b147b5769f95>\u001b[0m in \u001b[0;36mget_book_genre\u001b[0;34m(book_name)\u001b[0m\n\u001b[1;32m     31\u001b[0m       \u001b[0mi\u001b[0m \u001b[0;34m=\u001b[0m \u001b[0;36m2\u001b[0m\u001b[0;34m\u001b[0m\u001b[0;34m\u001b[0m\u001b[0m\n\u001b[1;32m     32\u001b[0m       \u001b[0;32mwhile\u001b[0m \u001b[0mlen\u001b[0m\u001b[0;34m(\u001b[0m\u001b[0mgenres\u001b[0m\u001b[0;34m)\u001b[0m \u001b[0;34m<\u001b[0m \u001b[0;36m1\u001b[0m\u001b[0;34m:\u001b[0m\u001b[0;34m\u001b[0m\u001b[0;34m\u001b[0m\u001b[0m\n\u001b[0;32m---> 33\u001b[0;31m         \u001b[0mbook\u001b[0m \u001b[0;34m=\u001b[0m \u001b[0mdata\u001b[0m\u001b[0;34m[\u001b[0m\u001b[0;34m'items'\u001b[0m\u001b[0;34m]\u001b[0m\u001b[0;34m[\u001b[0m\u001b[0mi\u001b[0m\u001b[0;34m]\u001b[0m\u001b[0;34m\u001b[0m\u001b[0;34m\u001b[0m\u001b[0m\n\u001b[0m\u001b[1;32m     34\u001b[0m         \u001b[0mgenres\u001b[0m \u001b[0;34m=\u001b[0m \u001b[0mbook\u001b[0m\u001b[0;34m[\u001b[0m\u001b[0;34m'volumeInfo'\u001b[0m\u001b[0;34m]\u001b[0m\u001b[0;34m.\u001b[0m\u001b[0mget\u001b[0m\u001b[0;34m(\u001b[0m\u001b[0;34m'categories'\u001b[0m\u001b[0;34m,\u001b[0m \u001b[0;34m[\u001b[0m\u001b[0;34m]\u001b[0m\u001b[0;34m)\u001b[0m\u001b[0;34m\u001b[0m\u001b[0;34m\u001b[0m\u001b[0m\n\u001b[1;32m     35\u001b[0m         \u001b[0mi\u001b[0m \u001b[0;34m+=\u001b[0m \u001b[0;36m1\u001b[0m\u001b[0;34m\u001b[0m\u001b[0;34m\u001b[0m\u001b[0m\n",
            "\u001b[0;31mIndexError\u001b[0m: list index out of range"
          ]
        }
      ]
    },
    {
      "cell_type": "code",
      "source": [
        "df.isna().sum()"
      ],
      "metadata": {
        "colab": {
          "base_uri": "https://localhost:8080/"
        },
        "id": "R8p67NtkMCQ5",
        "outputId": "5bc830ea-a81b-45ac-beed-dcb90d524954"
      },
      "execution_count": 176,
      "outputs": [
        {
          "output_type": "execute_result",
          "data": {
            "text/plain": [
              "Booktitle       0\n",
              "Author       2382\n",
              "Genre        3719\n",
              "Summary         0\n",
              "dtype: int64"
            ]
          },
          "metadata": {},
          "execution_count": 176
        }
      ]
    },
    {
      "cell_type": "code",
      "source": [
        "#we could use distilbert model too to get the genre of the missing genres\n",
        "#but we need to train the model on the text data so i think we need to use the summarizer model first then we can get the genre of the missing genres so we will do that on the NLP notebook"
      ],
      "metadata": {
        "id": "qwy2q6OH_Khc"
      },
      "execution_count": null,
      "outputs": []
    },
    {
      "cell_type": "code",
      "source": [
        "#now we only need Genre and Summary columns so we save them as a .csv file\n",
        "df[['Genre', 'Summary']].to_csv('booksummaries.csv', index=False)"
      ],
      "metadata": {
        "id": "H9RJchRc_5UG"
      },
      "execution_count": 182,
      "outputs": []
    },
    {
      "cell_type": "code",
      "source": [
        "#we upload the .csv file to the google drive\n",
        "!cp booksummaries.csv /content/drive/MyDrive"
      ],
      "metadata": {
        "id": "RrEeFjVNPEyy"
      },
      "execution_count": 183,
      "outputs": []
    }
  ]
}